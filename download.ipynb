{
  "nbformat": 4,
  "nbformat_minor": 0,
  "metadata": {
    "colab": {
      "provenance": []
    },
    "kernelspec": {
      "name": "python3",
      "display_name": "Python 3"
    },
    "language_info": {
      "name": "python"
    }
  },
  "cells": [
    {
      "cell_type": "code",
      "execution_count": 1,
      "metadata": {
        "id": "vibrwfcq1aWu"
      },
      "outputs": [],
      "source": [
        "import pandas as pd"
      ]
    },
    {
      "cell_type": "code",
      "source": [
        "df = pd.read_csv('https://query1.finance.yahoo.com/v7/finance/download/BTC-USD?period1=1650729821&period2=1682265821&interval=1d&events=history&includeAdjustedClose=true')"
      ],
      "metadata": {
        "id": "GnEJ7IU22Zd3"
      },
      "execution_count": 6,
      "outputs": []
    },
    {
      "cell_type": "code",
      "source": [
        "df.to_csv('raw_data.csv')"
      ],
      "metadata": {
        "id": "HwhShx5D2e69"
      },
      "execution_count": 9,
      "outputs": []
    }
  ]
}