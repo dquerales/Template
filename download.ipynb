{
  "nbformat": 4,
  "nbformat_minor": 0,
  "metadata": {
    "colab": {
      "provenance": []
    },
    "kernelspec": {
      "name": "python3",
      "display_name": "Python 3"
    },
    "language_info": {
      "name": "python"
    }
  },
  "cells": [
    {
      "cell_type": "code",
      "execution_count": 1,
      "metadata": {
        "id": "vibrwfcq1aWu"
      },
      "outputs": [],
      "source": [
        "import pandas as pd"
      ]
    },
    {
      "cell_type": "code",
      "source": [
        "df = pd.read_csv('https://api.blockchain.info/charts/market-price?format=csv')"
      ],
      "metadata": {
        "id": "GnEJ7IU22Zd3"
      },
      "execution_count": 6,
      "outputs": []
    },
    {
      "cell_type": "code",
      "source": [
        "df.to_csv('raw_data.csv')"
      ],
      "metadata": {
        "id": "HwhShx5D2e69"
      },
      "execution_count": 9,
      "outputs": []
    }
  ]
}
