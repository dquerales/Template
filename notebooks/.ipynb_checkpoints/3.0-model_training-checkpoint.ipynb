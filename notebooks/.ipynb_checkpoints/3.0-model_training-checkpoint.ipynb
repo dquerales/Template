{
 "cells": [
  {
   "cell_type": "markdown",
   "metadata": {
    "colab_type": "text",
    "id": "view-in-github"
   },
   "source": [
    "<a href=\"https://colab.research.google.com/github/dquerales/jupyter-automation-github-actions/blob/main/notebooks/model_training.ipynb\" target=\"_parent\"><img src=\"https://colab.research.google.com/assets/colab-badge.svg\" alt=\"Open In Colab\"/></a>"
   ]
  },
  {
   "cell_type": "markdown",
   "metadata": {
    "id": "pRJ59ilAHsjK"
   },
   "source": [
    "# Model Training"
   ]
  },
  {
   "cell_type": "markdown",
   "metadata": {
    "id": "9gZ2PZFw0BT7"
   },
   "source": [
    "____"
   ]
  },
  {
   "cell_type": "markdown",
   "metadata": {
    "id": "-KaBZH5bHskA"
   },
   "source": [
    "## Load libraries"
   ]
  },
  {
   "cell_type": "code",
   "execution_count": null,
   "metadata": {
    "id": "wCMvnhGSHskB"
   },
   "outputs": [],
   "source": [
    "from pycaret.regression import *\n",
    "import pandas as pd\n",
    "import numpy as np"
   ]
  },
  {
   "cell_type": "markdown",
   "metadata": {
    "id": "UnYfjZUQ0BUA"
   },
   "source": [
    "____"
   ]
  },
  {
   "cell_type": "markdown",
   "metadata": {
    "id": "xecU_FHQHskC"
   },
   "source": [
    "## Load data"
   ]
  },
  {
   "cell_type": "code",
   "execution_count": null,
   "metadata": {
    "id": "zaoy5PyYHskC"
   },
   "outputs": [],
   "source": [
    "df = pd.read_csv('datasets/raw_data.csv')"
   ]
  },
  {
   "cell_type": "code",
   "execution_count": null,
   "metadata": {
    "colab": {
     "base_uri": "https://localhost:8080/",
     "height": 206
    },
    "id": "uRzU4nKcHskC",
    "outputId": "9ea58fc0-58b9-4128-fad8-18d86fc93bae",
    "scrolled": true
   },
   "outputs": [
    {
     "data": {
      "text/html": [
       "\n",
       "  <div id=\"df-95616a41-23a7-481c-8c50-289e12ad1d80\">\n",
       "    <div class=\"colab-df-container\">\n",
       "      <div>\n",
       "<style scoped>\n",
       "    .dataframe tbody tr th:only-of-type {\n",
       "        vertical-align: middle;\n",
       "    }\n",
       "\n",
       "    .dataframe tbody tr th {\n",
       "        vertical-align: top;\n",
       "    }\n",
       "\n",
       "    .dataframe thead th {\n",
       "        text-align: right;\n",
       "    }\n",
       "</style>\n",
       "<table border=\"1\" class=\"dataframe\">\n",
       "  <thead>\n",
       "    <tr style=\"text-align: right;\">\n",
       "      <th></th>\n",
       "      <th>date</th>\n",
       "      <th>price</th>\n",
       "    </tr>\n",
       "  </thead>\n",
       "  <tbody>\n",
       "    <tr>\n",
       "      <th>0</th>\n",
       "      <td>2022-05-07 00:00:00</td>\n",
       "      <td>36013.03</td>\n",
       "    </tr>\n",
       "    <tr>\n",
       "      <th>1</th>\n",
       "      <td>2022-05-08 00:00:00</td>\n",
       "      <td>35471.42</td>\n",
       "    </tr>\n",
       "    <tr>\n",
       "      <th>2</th>\n",
       "      <td>2022-05-09 00:00:00</td>\n",
       "      <td>34082.21</td>\n",
       "    </tr>\n",
       "    <tr>\n",
       "      <th>3</th>\n",
       "      <td>2022-05-10 00:00:00</td>\n",
       "      <td>30175.71</td>\n",
       "    </tr>\n",
       "    <tr>\n",
       "      <th>4</th>\n",
       "      <td>2022-05-11 00:00:00</td>\n",
       "      <td>31003.93</td>\n",
       "    </tr>\n",
       "  </tbody>\n",
       "</table>\n",
       "</div>\n",
       "      <button class=\"colab-df-convert\" onclick=\"convertToInteractive('df-95616a41-23a7-481c-8c50-289e12ad1d80')\"\n",
       "              title=\"Convert this dataframe to an interactive table.\"\n",
       "              style=\"display:none;\">\n",
       "        \n",
       "  <svg xmlns=\"http://www.w3.org/2000/svg\" height=\"24px\"viewBox=\"0 0 24 24\"\n",
       "       width=\"24px\">\n",
       "    <path d=\"M0 0h24v24H0V0z\" fill=\"none\"/>\n",
       "    <path d=\"M18.56 5.44l.94 2.06.94-2.06 2.06-.94-2.06-.94-.94-2.06-.94 2.06-2.06.94zm-11 1L8.5 8.5l.94-2.06 2.06-.94-2.06-.94L8.5 2.5l-.94 2.06-2.06.94zm10 10l.94 2.06.94-2.06 2.06-.94-2.06-.94-.94-2.06-.94 2.06-2.06.94z\"/><path d=\"M17.41 7.96l-1.37-1.37c-.4-.4-.92-.59-1.43-.59-.52 0-1.04.2-1.43.59L10.3 9.45l-7.72 7.72c-.78.78-.78 2.05 0 2.83L4 21.41c.39.39.9.59 1.41.59.51 0 1.02-.2 1.41-.59l7.78-7.78 2.81-2.81c.8-.78.8-2.07 0-2.86zM5.41 20L4 18.59l7.72-7.72 1.47 1.35L5.41 20z\"/>\n",
       "  </svg>\n",
       "      </button>\n",
       "      \n",
       "  <style>\n",
       "    .colab-df-container {\n",
       "      display:flex;\n",
       "      flex-wrap:wrap;\n",
       "      gap: 12px;\n",
       "    }\n",
       "\n",
       "    .colab-df-convert {\n",
       "      background-color: #E8F0FE;\n",
       "      border: none;\n",
       "      border-radius: 50%;\n",
       "      cursor: pointer;\n",
       "      display: none;\n",
       "      fill: #1967D2;\n",
       "      height: 32px;\n",
       "      padding: 0 0 0 0;\n",
       "      width: 32px;\n",
       "    }\n",
       "\n",
       "    .colab-df-convert:hover {\n",
       "      background-color: #E2EBFA;\n",
       "      box-shadow: 0px 1px 2px rgba(60, 64, 67, 0.3), 0px 1px 3px 1px rgba(60, 64, 67, 0.15);\n",
       "      fill: #174EA6;\n",
       "    }\n",
       "\n",
       "    [theme=dark] .colab-df-convert {\n",
       "      background-color: #3B4455;\n",
       "      fill: #D2E3FC;\n",
       "    }\n",
       "\n",
       "    [theme=dark] .colab-df-convert:hover {\n",
       "      background-color: #434B5C;\n",
       "      box-shadow: 0px 1px 3px 1px rgba(0, 0, 0, 0.15);\n",
       "      filter: drop-shadow(0px 1px 2px rgba(0, 0, 0, 0.3));\n",
       "      fill: #FFFFFF;\n",
       "    }\n",
       "  </style>\n",
       "\n",
       "      <script>\n",
       "        const buttonEl =\n",
       "          document.querySelector('#df-95616a41-23a7-481c-8c50-289e12ad1d80 button.colab-df-convert');\n",
       "        buttonEl.style.display =\n",
       "          google.colab.kernel.accessAllowed ? 'block' : 'none';\n",
       "\n",
       "        async function convertToInteractive(key) {\n",
       "          const element = document.querySelector('#df-95616a41-23a7-481c-8c50-289e12ad1d80');\n",
       "          const dataTable =\n",
       "            await google.colab.kernel.invokeFunction('convertToInteractive',\n",
       "                                                     [key], {});\n",
       "          if (!dataTable) return;\n",
       "\n",
       "          const docLinkHtml = 'Like what you see? Visit the ' +\n",
       "            '<a target=\"_blank\" href=https://colab.research.google.com/notebooks/data_table.ipynb>data table notebook</a>'\n",
       "            + ' to learn more about interactive tables.';\n",
       "          element.innerHTML = '';\n",
       "          dataTable['output_type'] = 'display_data';\n",
       "          await google.colab.output.renderOutput(dataTable, element);\n",
       "          const docLink = document.createElement('div');\n",
       "          docLink.innerHTML = docLinkHtml;\n",
       "          element.appendChild(docLink);\n",
       "        }\n",
       "      </script>\n",
       "    </div>\n",
       "  </div>\n",
       "  "
      ],
      "text/plain": [
       "                  date     price\n",
       "0  2022-05-07 00:00:00  36013.03\n",
       "1  2022-05-08 00:00:00  35471.42\n",
       "2  2022-05-09 00:00:00  34082.21\n",
       "3  2022-05-10 00:00:00  30175.71\n",
       "4  2022-05-11 00:00:00  31003.93"
      ]
     },
     "execution_count": 237,
     "metadata": {},
     "output_type": "execute_result"
    }
   ],
   "source": [
    "df.head()"
   ]
  },
  {
   "cell_type": "markdown",
   "metadata": {
    "id": "ddHVsHu80BUF"
   },
   "source": [
    "____"
   ]
  },
  {
   "cell_type": "markdown",
   "metadata": {
    "id": "xbieNunGmHDg"
   },
   "source": [
    "## Data Preparation\n"
   ]
  },
  {
   "cell_type": "code",
   "execution_count": null,
   "metadata": {
    "id": "UsOmhOsomJh_"
   },
   "outputs": [],
   "source": [
    "df['date'] = pd.to_datetime(df['date'])\n",
    "df['day'] = df[\"date\"].dt.day\n",
    "df['month'] = df[\"date\"].dt.month\n",
    "df['year'] = df[\"date\"].dt.year"
   ]
  },
  {
   "cell_type": "code",
   "execution_count": null,
   "metadata": {
    "id": "uRPGUxg4nXJl"
   },
   "outputs": [],
   "source": [
    "df['series'] = np.arange(1,len(df)+1)"
   ]
  },
  {
   "cell_type": "code",
   "execution_count": null,
   "metadata": {
    "colab": {
     "base_uri": "https://localhost:8080/",
     "height": 206
    },
    "id": "yfTNn8NknX6M",
    "outputId": "f0391075-5104-4dde-ccd0-a17a89a8a706"
   },
   "outputs": [
    {
     "data": {
      "text/html": [
       "\n",
       "  <div id=\"df-6f1af959-499b-44b2-9e52-1b40b601c45b\">\n",
       "    <div class=\"colab-df-container\">\n",
       "      <div>\n",
       "<style scoped>\n",
       "    .dataframe tbody tr th:only-of-type {\n",
       "        vertical-align: middle;\n",
       "    }\n",
       "\n",
       "    .dataframe tbody tr th {\n",
       "        vertical-align: top;\n",
       "    }\n",
       "\n",
       "    .dataframe thead th {\n",
       "        text-align: right;\n",
       "    }\n",
       "</style>\n",
       "<table border=\"1\" class=\"dataframe\">\n",
       "  <thead>\n",
       "    <tr style=\"text-align: right;\">\n",
       "      <th></th>\n",
       "      <th>date</th>\n",
       "      <th>price</th>\n",
       "      <th>day</th>\n",
       "      <th>month</th>\n",
       "      <th>year</th>\n",
       "      <th>series</th>\n",
       "    </tr>\n",
       "  </thead>\n",
       "  <tbody>\n",
       "    <tr>\n",
       "      <th>0</th>\n",
       "      <td>2022-05-07</td>\n",
       "      <td>36013.03</td>\n",
       "      <td>7</td>\n",
       "      <td>5</td>\n",
       "      <td>2022</td>\n",
       "      <td>1</td>\n",
       "    </tr>\n",
       "    <tr>\n",
       "      <th>1</th>\n",
       "      <td>2022-05-08</td>\n",
       "      <td>35471.42</td>\n",
       "      <td>8</td>\n",
       "      <td>5</td>\n",
       "      <td>2022</td>\n",
       "      <td>2</td>\n",
       "    </tr>\n",
       "    <tr>\n",
       "      <th>2</th>\n",
       "      <td>2022-05-09</td>\n",
       "      <td>34082.21</td>\n",
       "      <td>9</td>\n",
       "      <td>5</td>\n",
       "      <td>2022</td>\n",
       "      <td>3</td>\n",
       "    </tr>\n",
       "    <tr>\n",
       "      <th>3</th>\n",
       "      <td>2022-05-10</td>\n",
       "      <td>30175.71</td>\n",
       "      <td>10</td>\n",
       "      <td>5</td>\n",
       "      <td>2022</td>\n",
       "      <td>4</td>\n",
       "    </tr>\n",
       "    <tr>\n",
       "      <th>4</th>\n",
       "      <td>2022-05-11</td>\n",
       "      <td>31003.93</td>\n",
       "      <td>11</td>\n",
       "      <td>5</td>\n",
       "      <td>2022</td>\n",
       "      <td>5</td>\n",
       "    </tr>\n",
       "  </tbody>\n",
       "</table>\n",
       "</div>\n",
       "      <button class=\"colab-df-convert\" onclick=\"convertToInteractive('df-6f1af959-499b-44b2-9e52-1b40b601c45b')\"\n",
       "              title=\"Convert this dataframe to an interactive table.\"\n",
       "              style=\"display:none;\">\n",
       "        \n",
       "  <svg xmlns=\"http://www.w3.org/2000/svg\" height=\"24px\"viewBox=\"0 0 24 24\"\n",
       "       width=\"24px\">\n",
       "    <path d=\"M0 0h24v24H0V0z\" fill=\"none\"/>\n",
       "    <path d=\"M18.56 5.44l.94 2.06.94-2.06 2.06-.94-2.06-.94-.94-2.06-.94 2.06-2.06.94zm-11 1L8.5 8.5l.94-2.06 2.06-.94-2.06-.94L8.5 2.5l-.94 2.06-2.06.94zm10 10l.94 2.06.94-2.06 2.06-.94-2.06-.94-.94-2.06-.94 2.06-2.06.94z\"/><path d=\"M17.41 7.96l-1.37-1.37c-.4-.4-.92-.59-1.43-.59-.52 0-1.04.2-1.43.59L10.3 9.45l-7.72 7.72c-.78.78-.78 2.05 0 2.83L4 21.41c.39.39.9.59 1.41.59.51 0 1.02-.2 1.41-.59l7.78-7.78 2.81-2.81c.8-.78.8-2.07 0-2.86zM5.41 20L4 18.59l7.72-7.72 1.47 1.35L5.41 20z\"/>\n",
       "  </svg>\n",
       "      </button>\n",
       "      \n",
       "  <style>\n",
       "    .colab-df-container {\n",
       "      display:flex;\n",
       "      flex-wrap:wrap;\n",
       "      gap: 12px;\n",
       "    }\n",
       "\n",
       "    .colab-df-convert {\n",
       "      background-color: #E8F0FE;\n",
       "      border: none;\n",
       "      border-radius: 50%;\n",
       "      cursor: pointer;\n",
       "      display: none;\n",
       "      fill: #1967D2;\n",
       "      height: 32px;\n",
       "      padding: 0 0 0 0;\n",
       "      width: 32px;\n",
       "    }\n",
       "\n",
       "    .colab-df-convert:hover {\n",
       "      background-color: #E2EBFA;\n",
       "      box-shadow: 0px 1px 2px rgba(60, 64, 67, 0.3), 0px 1px 3px 1px rgba(60, 64, 67, 0.15);\n",
       "      fill: #174EA6;\n",
       "    }\n",
       "\n",
       "    [theme=dark] .colab-df-convert {\n",
       "      background-color: #3B4455;\n",
       "      fill: #D2E3FC;\n",
       "    }\n",
       "\n",
       "    [theme=dark] .colab-df-convert:hover {\n",
       "      background-color: #434B5C;\n",
       "      box-shadow: 0px 1px 3px 1px rgba(0, 0, 0, 0.15);\n",
       "      filter: drop-shadow(0px 1px 2px rgba(0, 0, 0, 0.3));\n",
       "      fill: #FFFFFF;\n",
       "    }\n",
       "  </style>\n",
       "\n",
       "      <script>\n",
       "        const buttonEl =\n",
       "          document.querySelector('#df-6f1af959-499b-44b2-9e52-1b40b601c45b button.colab-df-convert');\n",
       "        buttonEl.style.display =\n",
       "          google.colab.kernel.accessAllowed ? 'block' : 'none';\n",
       "\n",
       "        async function convertToInteractive(key) {\n",
       "          const element = document.querySelector('#df-6f1af959-499b-44b2-9e52-1b40b601c45b');\n",
       "          const dataTable =\n",
       "            await google.colab.kernel.invokeFunction('convertToInteractive',\n",
       "                                                     [key], {});\n",
       "          if (!dataTable) return;\n",
       "\n",
       "          const docLinkHtml = 'Like what you see? Visit the ' +\n",
       "            '<a target=\"_blank\" href=https://colab.research.google.com/notebooks/data_table.ipynb>data table notebook</a>'\n",
       "            + ' to learn more about interactive tables.';\n",
       "          element.innerHTML = '';\n",
       "          dataTable['output_type'] = 'display_data';\n",
       "          await google.colab.output.renderOutput(dataTable, element);\n",
       "          const docLink = document.createElement('div');\n",
       "          docLink.innerHTML = docLinkHtml;\n",
       "          element.appendChild(docLink);\n",
       "        }\n",
       "      </script>\n",
       "    </div>\n",
       "  </div>\n",
       "  "
      ],
      "text/plain": [
       "        date     price  day  month  year  series\n",
       "0 2022-05-07  36013.03    7      5  2022       1\n",
       "1 2022-05-08  35471.42    8      5  2022       2\n",
       "2 2022-05-09  34082.21    9      5  2022       3\n",
       "3 2022-05-10  30175.71   10      5  2022       4\n",
       "4 2022-05-11  31003.93   11      5  2022       5"
      ]
     },
     "execution_count": 241,
     "metadata": {},
     "output_type": "execute_result"
    }
   ],
   "source": [
    "df.head()"
   ]
  },
  {
   "cell_type": "code",
   "execution_count": null,
   "metadata": {
    "colab": {
     "base_uri": "https://localhost:8080/",
     "height": 542
    },
    "id": "WxurtwqKwWcN",
    "outputId": "1d7126e6-f927-4a81-a405-dc2755c47c49",
    "scrolled": true
   },
   "outputs": [
    {
     "data": {
      "text/html": [
       "<html>\n",
       "<head><meta charset=\"utf-8\" /></head>\n",
       "<body>\n",
       "    <div>            <script src=\"https://cdnjs.cloudflare.com/ajax/libs/mathjax/2.7.5/MathJax.js?config=TeX-AMS-MML_SVG\"></script><script type=\"text/javascript\">if (window.MathJax && window.MathJax.Hub && window.MathJax.Hub.Config) {window.MathJax.Hub.Config({SVG: {font: \"STIX-Web\"}});}</script>                <script type=\"text/javascript\">window.PlotlyConfig = {MathJaxConfig: 'local'};</script>\n",
       "        <script src=\"https://cdn.plot.ly/plotly-2.18.2.min.js\"></script>                <div id=\"872e26ef-cda0-48fb-b631-305f0f9dd4a8\" class=\"plotly-graph-div\" style=\"height:525px; width:100%;\"></div>            <script type=\"text/javascript\">                                    window.PLOTLYENV=window.PLOTLYENV || {};                                    if (document.getElementById(\"872e26ef-cda0-48fb-b631-305f0f9dd4a8\")) {                    Plotly.newPlot(                        \"872e26ef-cda0-48fb-b631-305f0f9dd4a8\",                        [{\"hovertemplate\":\"date=%{x}<br>price=%{y}<extra></extra>\",\"legendgroup\":\"\",\"line\":{\"color\":\"#636efa\",\"dash\":\"solid\"},\"marker\":{\"symbol\":\"circle\"},\"mode\":\"lines\",\"name\":\"\",\"orientation\":\"v\",\"showlegend\":false,\"x\":[\"2022-05-07T00:00:00\",\"2022-05-08T00:00:00\",\"2022-05-09T00:00:00\",\"2022-05-10T00:00:00\",\"2022-05-11T00:00:00\",\"2022-05-12T00:00:00\",\"2022-05-13T00:00:00\",\"2022-05-14T00:00:00\",\"2022-05-15T00:00:00\",\"2022-05-16T00:00:00\",\"2022-05-17T00:00:00\",\"2022-05-18T00:00:00\",\"2022-05-19T00:00:00\",\"2022-05-20T00:00:00\",\"2022-05-21T00:00:00\",\"2022-05-22T00:00:00\",\"2022-05-23T00:00:00\",\"2022-05-24T00:00:00\",\"2022-05-25T00:00:00\",\"2022-05-26T00:00:00\",\"2022-05-27T00:00:00\",\"2022-05-28T00:00:00\",\"2022-05-29T00:00:00\",\"2022-05-30T00:00:00\",\"2022-05-31T00:00:00\",\"2022-06-01T00:00:00\",\"2022-06-02T00:00:00\",\"2022-06-03T00:00:00\",\"2022-06-04T00:00:00\",\"2022-06-05T00:00:00\",\"2022-06-06T00:00:00\",\"2022-06-07T00:00:00\",\"2022-06-08T00:00:00\",\"2022-06-09T00:00:00\",\"2022-06-10T00:00:00\",\"2022-06-11T00:00:00\",\"2022-06-12T00:00:00\",\"2022-06-13T00:00:00\",\"2022-06-14T00:00:00\",\"2022-06-15T00:00:00\",\"2022-06-16T00:00:00\",\"2022-06-17T00:00:00\",\"2022-06-18T00:00:00\",\"2022-06-19T00:00:00\",\"2022-06-20T00:00:00\",\"2022-06-21T00:00:00\",\"2022-06-22T00:00:00\",\"2022-06-23T00:00:00\",\"2022-06-24T00:00:00\",\"2022-06-25T00:00:00\",\"2022-06-26T00:00:00\",\"2022-06-27T00:00:00\",\"2022-06-28T00:00:00\",\"2022-06-29T00:00:00\",\"2022-06-30T00:00:00\",\"2022-07-01T00:00:00\",\"2022-07-02T00:00:00\",\"2022-07-03T00:00:00\",\"2022-07-04T00:00:00\",\"2022-07-05T00:00:00\",\"2022-07-06T00:00:00\",\"2022-07-07T00:00:00\",\"2022-07-08T00:00:00\",\"2022-07-09T00:00:00\",\"2022-07-10T00:00:00\",\"2022-07-11T00:00:00\",\"2022-07-12T00:00:00\",\"2022-07-13T00:00:00\",\"2022-07-14T00:00:00\",\"2022-07-15T00:00:00\",\"2022-07-16T00:00:00\",\"2022-07-17T00:00:00\",\"2022-07-18T00:00:00\",\"2022-07-19T00:00:00\",\"2022-07-20T00:00:00\",\"2022-07-21T00:00:00\",\"2022-07-22T00:00:00\",\"2022-07-23T00:00:00\",\"2022-07-24T00:00:00\",\"2022-07-25T00:00:00\",\"2022-07-26T00:00:00\",\"2022-07-27T00:00:00\",\"2022-07-28T00:00:00\",\"2022-07-29T00:00:00\",\"2022-07-30T00:00:00\",\"2022-07-31T00:00:00\",\"2022-08-01T00:00:00\",\"2022-08-02T00:00:00\",\"2022-08-03T00:00:00\",\"2022-08-04T00:00:00\",\"2022-08-05T00:00:00\",\"2022-08-06T00:00:00\",\"2022-08-07T00:00:00\",\"2022-08-08T00:00:00\",\"2022-08-09T00:00:00\",\"2022-08-10T00:00:00\",\"2022-08-11T00:00:00\",\"2022-08-12T00:00:00\",\"2022-08-13T00:00:00\",\"2022-08-14T00:00:00\",\"2022-08-15T00:00:00\",\"2022-08-16T00:00:00\",\"2022-08-17T00:00:00\",\"2022-08-18T00:00:00\",\"2022-08-19T00:00:00\",\"2022-08-20T00:00:00\",\"2022-08-21T00:00:00\",\"2022-08-22T00:00:00\",\"2022-08-23T00:00:00\",\"2022-08-24T00:00:00\",\"2022-08-25T00:00:00\",\"2022-08-26T00:00:00\",\"2022-08-27T00:00:00\",\"2022-08-28T00:00:00\",\"2022-08-29T00:00:00\",\"2022-08-30T00:00:00\",\"2022-08-31T00:00:00\",\"2022-09-01T00:00:00\",\"2022-09-02T00:00:00\",\"2022-09-03T00:00:00\",\"2022-09-04T00:00:00\",\"2022-09-05T00:00:00\",\"2022-09-06T00:00:00\",\"2022-09-07T00:00:00\",\"2022-09-08T00:00:00\",\"2022-09-09T00:00:00\",\"2022-09-10T00:00:00\",\"2022-09-11T00:00:00\",\"2022-09-12T00:00:00\",\"2022-09-13T00:00:00\",\"2022-09-14T00:00:00\",\"2022-09-15T00:00:00\",\"2022-09-16T00:00:00\",\"2022-09-17T00:00:00\",\"2022-09-18T00:00:00\",\"2022-09-19T00:00:00\",\"2022-09-20T00:00:00\",\"2022-09-21T00:00:00\",\"2022-09-22T00:00:00\",\"2022-09-23T00:00:00\",\"2022-09-24T00:00:00\",\"2022-09-25T00:00:00\",\"2022-09-26T00:00:00\",\"2022-09-27T00:00:00\",\"2022-09-28T00:00:00\",\"2022-09-29T00:00:00\",\"2022-09-30T00:00:00\",\"2022-10-01T00:00:00\",\"2022-10-02T00:00:00\",\"2022-10-03T00:00:00\",\"2022-10-04T00:00:00\",\"2022-10-05T00:00:00\",\"2022-10-06T00:00:00\",\"2022-10-07T00:00:00\",\"2022-10-08T00:00:00\",\"2022-10-09T00:00:00\",\"2022-10-10T00:00:00\",\"2022-10-11T00:00:00\",\"2022-10-12T00:00:00\",\"2022-10-13T00:00:00\",\"2022-10-14T00:00:00\",\"2022-10-15T00:00:00\",\"2022-10-16T00:00:00\",\"2022-10-17T00:00:00\",\"2022-10-18T00:00:00\",\"2022-10-19T00:00:00\",\"2022-10-20T00:00:00\",\"2022-10-21T00:00:00\",\"2022-10-22T00:00:00\",\"2022-10-23T00:00:00\",\"2022-10-24T00:00:00\",\"2022-10-25T00:00:00\",\"2022-10-26T00:00:00\",\"2022-10-27T00:00:00\",\"2022-10-28T00:00:00\",\"2022-10-29T00:00:00\",\"2022-10-30T00:00:00\",\"2022-10-31T00:00:00\",\"2022-11-01T00:00:00\",\"2022-11-02T00:00:00\",\"2022-11-03T00:00:00\",\"2022-11-04T00:00:00\",\"2022-11-05T00:00:00\",\"2022-11-06T00:00:00\",\"2022-11-07T00:00:00\",\"2022-11-08T00:00:00\",\"2022-11-09T00:00:00\",\"2022-11-10T00:00:00\",\"2022-11-11T00:00:00\",\"2022-11-12T00:00:00\",\"2022-11-13T00:00:00\",\"2022-11-14T00:00:00\",\"2022-11-15T00:00:00\",\"2022-11-16T00:00:00\",\"2022-11-17T00:00:00\",\"2022-11-18T00:00:00\",\"2022-11-19T00:00:00\",\"2022-11-20T00:00:00\",\"2022-11-21T00:00:00\",\"2022-11-22T00:00:00\",\"2022-11-23T00:00:00\",\"2022-11-24T00:00:00\",\"2022-11-25T00:00:00\",\"2022-11-26T00:00:00\",\"2022-11-27T00:00:00\",\"2022-11-28T00:00:00\",\"2022-11-29T00:00:00\",\"2022-11-30T00:00:00\",\"2022-12-01T00:00:00\",\"2022-12-02T00:00:00\",\"2022-12-03T00:00:00\",\"2022-12-04T00:00:00\",\"2022-12-05T00:00:00\",\"2022-12-06T00:00:00\",\"2022-12-07T00:00:00\",\"2022-12-08T00:00:00\",\"2022-12-09T00:00:00\",\"2022-12-10T00:00:00\",\"2022-12-11T00:00:00\",\"2022-12-12T00:00:00\",\"2022-12-13T00:00:00\",\"2022-12-14T00:00:00\",\"2022-12-15T00:00:00\",\"2022-12-16T00:00:00\",\"2022-12-17T00:00:00\",\"2022-12-18T00:00:00\",\"2022-12-19T00:00:00\",\"2022-12-20T00:00:00\",\"2022-12-21T00:00:00\",\"2022-12-22T00:00:00\",\"2022-12-23T00:00:00\",\"2022-12-24T00:00:00\",\"2022-12-25T00:00:00\",\"2022-12-26T00:00:00\",\"2022-12-27T00:00:00\",\"2022-12-28T00:00:00\",\"2022-12-29T00:00:00\",\"2022-12-30T00:00:00\",\"2022-12-31T00:00:00\",\"2023-01-01T00:00:00\",\"2023-01-02T00:00:00\",\"2023-01-03T00:00:00\",\"2023-01-04T00:00:00\",\"2023-01-05T00:00:00\",\"2023-01-06T00:00:00\",\"2023-01-07T00:00:00\",\"2023-01-08T00:00:00\",\"2023-01-09T00:00:00\",\"2023-01-10T00:00:00\",\"2023-01-11T00:00:00\",\"2023-01-12T00:00:00\",\"2023-01-13T00:00:00\",\"2023-01-14T00:00:00\",\"2023-01-15T00:00:00\",\"2023-01-16T00:00:00\",\"2023-01-17T00:00:00\",\"2023-01-18T00:00:00\",\"2023-01-19T00:00:00\",\"2023-01-20T00:00:00\",\"2023-01-21T00:00:00\",\"2023-01-22T00:00:00\",\"2023-01-23T00:00:00\",\"2023-01-24T00:00:00\",\"2023-01-25T00:00:00\",\"2023-01-26T00:00:00\",\"2023-01-27T00:00:00\",\"2023-01-28T00:00:00\",\"2023-01-29T00:00:00\",\"2023-01-30T00:00:00\",\"2023-01-31T00:00:00\",\"2023-02-01T00:00:00\",\"2023-02-02T00:00:00\",\"2023-02-03T00:00:00\",\"2023-02-04T00:00:00\",\"2023-02-05T00:00:00\",\"2023-02-06T00:00:00\",\"2023-02-07T00:00:00\",\"2023-02-08T00:00:00\",\"2023-02-09T00:00:00\",\"2023-02-10T00:00:00\",\"2023-02-11T00:00:00\",\"2023-02-12T00:00:00\",\"2023-02-13T00:00:00\",\"2023-02-14T00:00:00\",\"2023-02-15T00:00:00\",\"2023-02-16T00:00:00\",\"2023-02-17T00:00:00\",\"2023-02-18T00:00:00\",\"2023-02-19T00:00:00\",\"2023-02-20T00:00:00\",\"2023-02-21T00:00:00\",\"2023-02-22T00:00:00\",\"2023-02-23T00:00:00\",\"2023-02-24T00:00:00\",\"2023-02-25T00:00:00\",\"2023-02-26T00:00:00\",\"2023-02-27T00:00:00\",\"2023-02-28T00:00:00\",\"2023-03-01T00:00:00\",\"2023-03-02T00:00:00\",\"2023-03-03T00:00:00\",\"2023-03-04T00:00:00\",\"2023-03-05T00:00:00\",\"2023-03-06T00:00:00\",\"2023-03-07T00:00:00\",\"2023-03-08T00:00:00\",\"2023-03-09T00:00:00\",\"2023-03-10T00:00:00\",\"2023-03-11T00:00:00\",\"2023-03-12T00:00:00\",\"2023-03-13T00:00:00\",\"2023-03-14T00:00:00\",\"2023-03-15T00:00:00\",\"2023-03-16T00:00:00\",\"2023-03-17T00:00:00\",\"2023-03-18T00:00:00\",\"2023-03-19T00:00:00\",\"2023-03-20T00:00:00\",\"2023-03-21T00:00:00\",\"2023-03-22T00:00:00\",\"2023-03-23T00:00:00\",\"2023-03-24T00:00:00\",\"2023-03-25T00:00:00\",\"2023-03-26T00:00:00\",\"2023-03-27T00:00:00\",\"2023-03-28T00:00:00\",\"2023-03-29T00:00:00\",\"2023-03-30T00:00:00\",\"2023-03-31T00:00:00\",\"2023-04-01T00:00:00\",\"2023-04-02T00:00:00\",\"2023-04-03T00:00:00\",\"2023-04-04T00:00:00\",\"2023-04-05T00:00:00\",\"2023-04-06T00:00:00\",\"2023-04-07T00:00:00\",\"2023-04-08T00:00:00\",\"2023-04-09T00:00:00\",\"2023-04-10T00:00:00\",\"2023-04-11T00:00:00\",\"2023-04-12T00:00:00\",\"2023-04-13T00:00:00\",\"2023-04-14T00:00:00\",\"2023-04-15T00:00:00\",\"2023-04-16T00:00:00\",\"2023-04-17T00:00:00\",\"2023-04-18T00:00:00\",\"2023-04-19T00:00:00\",\"2023-04-20T00:00:00\",\"2023-04-21T00:00:00\",\"2023-04-22T00:00:00\",\"2023-04-23T00:00:00\",\"2023-04-24T00:00:00\",\"2023-04-25T00:00:00\",\"2023-04-26T00:00:00\",\"2023-04-27T00:00:00\",\"2023-04-28T00:00:00\",\"2023-04-29T00:00:00\",\"2023-04-30T00:00:00\",\"2023-05-01T00:00:00\",\"2023-05-02T00:00:00\",\"2023-05-03T00:00:00\",\"2023-05-04T00:00:00\",\"2023-05-05T00:00:00\",\"2023-05-06T00:00:00\",\"2023-05-07T00:00:00\"],\"xaxis\":\"x\",\"y\":[36013.03,35471.42,34082.21,30175.71,31003.93,28907.15,28931.14,29234.06,30074.61,31277.43,29834.09,30406.69,28680.97,30289.87,29159.5,29409.92,30278.94,29074.33,29634.57,29518.59,29193.92,28578.89,29013.69,29448.74,31715.58,31776.27,29780.81,30429.88,29681.76,29845.23,29901.35,31349.82,31117.83,30189.25,30083.46,29059.41,28344.5,26593.3,22431.22,22189.29,22550.79,20350.48,20434.75,18977.51,20540.38,20582.29,20703.51,19953.71,21088.3,21194.68,21481.38,21020.04,20702.23,20256.61,20085.93,19865.7,19226.7,19224.75,19288.97,20208.45,20181.91,20545.61,21633.44,21636.45,21582.6,20834.61,19946.31,19292.99,20223.69,20568.9,20835.61,21197.1,20774.23,22538.08,23403.29,23227.22,23154.09,22687.08,22461.7,22582.4,21300.72,21267.33,22950.29,23856.25,23792.0,23647.99,23326.49,23298.94,22981.77,22831.85,22608.3,23295.14,22947.19,23174.25,23816.32,23156.31,23959.92,23953.77,24418.38,24447.13,24314.89,24096.19,23876.29,23332.09,23193.99,20843.22,21150.33,21520.51,21402.93,21516.02,21377.51,21597.93,20233.32,20035.59,19550.07,20290.41,19793.02,20047.68,20130.52,19952.91,19834.94,19994.65,19789.87,18806.7,19280.08,19327.53,21387.58,21673.03,21794.52,22392.71,20172.56,20219.55,19694.69,19787.61,20122.71,19415.86,19542.2,18879.96,18507.36,19408.63,19280.58,18931.79,18807.71,19227.26,19104.89,19530.71,19598.86,19427.2,19314.69,19049.72,19632.61,20342.25,20167.79,19956.49,19544.82,19417.73,19441.88,19132.52,19049.64,19156.21,19383.33,19184.71,19063.1,19265.53,19548.97,19330.74,19125.65,19046.83,19171.34,19205.45,19565.91,19338.9,20101.27,20772.36,20288.52,20601.63,20816.16,20628.5,20499.29,20486.26,20153.99,20208.16,21152.93,21292.67,20920.33,20598.44,18540.11,15856.95,17550.23,16990.26,16776.4,16310.3,16587.96,16873.56,16662.24,16682.44,16683.22,16687.8,16260.41,15759.61,16194.75,16606.77,16592.67,16507.44,16453.47,16420.2,16208.96,16432.73,17170.62,16971.57,17091.23,16894.23,17117.57,16967.02,17085.45,16836.05,17234.58,17128.55,17124.99,17098.61,17206.87,17771.03,17802.44,17357.47,16637.6,16783.6,16745.99,16439.89,16904.64,16813.62,16818.68,16779.71,16838.1,16826.86,16915.7,16699.0,16539.28,16630.49,16599.69,16526.78,16613.71,16671.54,16669.6,16850.63,16826.41,16951.97,16945.2,17108.41,17192.07,17443.68,17934.6,18859.32,19933.36,20955.15,20880.99,21190.49,21145.18,20672.78,21087.76,22693.45,22772.5,22724.23,22924.37,22634.47,23089.74,23008.29,23075.81,23032.23,23755.85,22836.09,23133.91,23722.02,23454.41,23440.09,23328.24,22936.95,22763.74,23254.79,22964.87,21794.05,21638.55,21861.84,21787.25,21787.99,22211.8,24340.73,23544.67,24572.97,24641.94,24290.18,24834.81,24438.1,24185.67,23946.39,23192.02,23176.76,23563.11,23497.62,23128.3,23641.68,23467.36,22351.72,22348.51,22427.56,22410.62,22197.49,21698.33,20363.36,20224.85,20656.78,22205.32,24213.74,24767.46,24376.39,25053.64,27462.77,26975.39,28045.84,27790.89,28191.53,27306.32,28332.42,27496.2,27496.06,27999.84,27141.23,27274.72,28355.92,28033.06,28479.75,28465.04,28185.2,27802.23,28169.5,28180.4,28039.94,27925.55,27956.01,28336.18,29656.24,30234.98,29899.24,30407.6,30486.05,30319.32,30315.39,29447.1,30393.64,28829.57,28243.02,27267.99,27816.18,27590.55,27516.48,28301.71,28429.72,29480.35,29329.63,29244.68,29264.14,28086.65,28678.29,29007.66,28851.84,29535.38,28903.41],\"yaxis\":\"y\",\"type\":\"scatter\"}],                        {\"template\":{\"data\":{\"barpolar\":[{\"marker\":{\"line\":{\"color\":\"rgb(17,17,17)\",\"width\":0.5},\"pattern\":{\"fillmode\":\"overlay\",\"size\":10,\"solidity\":0.2}},\"type\":\"barpolar\"}],\"bar\":[{\"error_x\":{\"color\":\"#f2f5fa\"},\"error_y\":{\"color\":\"#f2f5fa\"},\"marker\":{\"line\":{\"color\":\"rgb(17,17,17)\",\"width\":0.5},\"pattern\":{\"fillmode\":\"overlay\",\"size\":10,\"solidity\":0.2}},\"type\":\"bar\"}],\"carpet\":[{\"aaxis\":{\"endlinecolor\":\"#A2B1C6\",\"gridcolor\":\"#506784\",\"linecolor\":\"#506784\",\"minorgridcolor\":\"#506784\",\"startlinecolor\":\"#A2B1C6\"},\"baxis\":{\"endlinecolor\":\"#A2B1C6\",\"gridcolor\":\"#506784\",\"linecolor\":\"#506784\",\"minorgridcolor\":\"#506784\",\"startlinecolor\":\"#A2B1C6\"},\"type\":\"carpet\"}],\"choropleth\":[{\"colorbar\":{\"outlinewidth\":0,\"ticks\":\"\"},\"type\":\"choropleth\"}],\"contourcarpet\":[{\"colorbar\":{\"outlinewidth\":0,\"ticks\":\"\"},\"type\":\"contourcarpet\"}],\"contour\":[{\"colorbar\":{\"outlinewidth\":0,\"ticks\":\"\"},\"colorscale\":[[0.0,\"#0d0887\"],[0.1111111111111111,\"#46039f\"],[0.2222222222222222,\"#7201a8\"],[0.3333333333333333,\"#9c179e\"],[0.4444444444444444,\"#bd3786\"],[0.5555555555555556,\"#d8576b\"],[0.6666666666666666,\"#ed7953\"],[0.7777777777777778,\"#fb9f3a\"],[0.8888888888888888,\"#fdca26\"],[1.0,\"#f0f921\"]],\"type\":\"contour\"}],\"heatmapgl\":[{\"colorbar\":{\"outlinewidth\":0,\"ticks\":\"\"},\"colorscale\":[[0.0,\"#0d0887\"],[0.1111111111111111,\"#46039f\"],[0.2222222222222222,\"#7201a8\"],[0.3333333333333333,\"#9c179e\"],[0.4444444444444444,\"#bd3786\"],[0.5555555555555556,\"#d8576b\"],[0.6666666666666666,\"#ed7953\"],[0.7777777777777778,\"#fb9f3a\"],[0.8888888888888888,\"#fdca26\"],[1.0,\"#f0f921\"]],\"type\":\"heatmapgl\"}],\"heatmap\":[{\"colorbar\":{\"outlinewidth\":0,\"ticks\":\"\"},\"colorscale\":[[0.0,\"#0d0887\"],[0.1111111111111111,\"#46039f\"],[0.2222222222222222,\"#7201a8\"],[0.3333333333333333,\"#9c179e\"],[0.4444444444444444,\"#bd3786\"],[0.5555555555555556,\"#d8576b\"],[0.6666666666666666,\"#ed7953\"],[0.7777777777777778,\"#fb9f3a\"],[0.8888888888888888,\"#fdca26\"],[1.0,\"#f0f921\"]],\"type\":\"heatmap\"}],\"histogram2dcontour\":[{\"colorbar\":{\"outlinewidth\":0,\"ticks\":\"\"},\"colorscale\":[[0.0,\"#0d0887\"],[0.1111111111111111,\"#46039f\"],[0.2222222222222222,\"#7201a8\"],[0.3333333333333333,\"#9c179e\"],[0.4444444444444444,\"#bd3786\"],[0.5555555555555556,\"#d8576b\"],[0.6666666666666666,\"#ed7953\"],[0.7777777777777778,\"#fb9f3a\"],[0.8888888888888888,\"#fdca26\"],[1.0,\"#f0f921\"]],\"type\":\"histogram2dcontour\"}],\"histogram2d\":[{\"colorbar\":{\"outlinewidth\":0,\"ticks\":\"\"},\"colorscale\":[[0.0,\"#0d0887\"],[0.1111111111111111,\"#46039f\"],[0.2222222222222222,\"#7201a8\"],[0.3333333333333333,\"#9c179e\"],[0.4444444444444444,\"#bd3786\"],[0.5555555555555556,\"#d8576b\"],[0.6666666666666666,\"#ed7953\"],[0.7777777777777778,\"#fb9f3a\"],[0.8888888888888888,\"#fdca26\"],[1.0,\"#f0f921\"]],\"type\":\"histogram2d\"}],\"histogram\":[{\"marker\":{\"pattern\":{\"fillmode\":\"overlay\",\"size\":10,\"solidity\":0.2}},\"type\":\"histogram\"}],\"mesh3d\":[{\"colorbar\":{\"outlinewidth\":0,\"ticks\":\"\"},\"type\":\"mesh3d\"}],\"parcoords\":[{\"line\":{\"colorbar\":{\"outlinewidth\":0,\"ticks\":\"\"}},\"type\":\"parcoords\"}],\"pie\":[{\"automargin\":true,\"type\":\"pie\"}],\"scatter3d\":[{\"line\":{\"colorbar\":{\"outlinewidth\":0,\"ticks\":\"\"}},\"marker\":{\"colorbar\":{\"outlinewidth\":0,\"ticks\":\"\"}},\"type\":\"scatter3d\"}],\"scattercarpet\":[{\"marker\":{\"colorbar\":{\"outlinewidth\":0,\"ticks\":\"\"}},\"type\":\"scattercarpet\"}],\"scattergeo\":[{\"marker\":{\"colorbar\":{\"outlinewidth\":0,\"ticks\":\"\"}},\"type\":\"scattergeo\"}],\"scattergl\":[{\"marker\":{\"line\":{\"color\":\"#283442\"}},\"type\":\"scattergl\"}],\"scattermapbox\":[{\"marker\":{\"colorbar\":{\"outlinewidth\":0,\"ticks\":\"\"}},\"type\":\"scattermapbox\"}],\"scatterpolargl\":[{\"marker\":{\"colorbar\":{\"outlinewidth\":0,\"ticks\":\"\"}},\"type\":\"scatterpolargl\"}],\"scatterpolar\":[{\"marker\":{\"colorbar\":{\"outlinewidth\":0,\"ticks\":\"\"}},\"type\":\"scatterpolar\"}],\"scatter\":[{\"marker\":{\"line\":{\"color\":\"#283442\"}},\"type\":\"scatter\"}],\"scatterternary\":[{\"marker\":{\"colorbar\":{\"outlinewidth\":0,\"ticks\":\"\"}},\"type\":\"scatterternary\"}],\"surface\":[{\"colorbar\":{\"outlinewidth\":0,\"ticks\":\"\"},\"colorscale\":[[0.0,\"#0d0887\"],[0.1111111111111111,\"#46039f\"],[0.2222222222222222,\"#7201a8\"],[0.3333333333333333,\"#9c179e\"],[0.4444444444444444,\"#bd3786\"],[0.5555555555555556,\"#d8576b\"],[0.6666666666666666,\"#ed7953\"],[0.7777777777777778,\"#fb9f3a\"],[0.8888888888888888,\"#fdca26\"],[1.0,\"#f0f921\"]],\"type\":\"surface\"}],\"table\":[{\"cells\":{\"fill\":{\"color\":\"#506784\"},\"line\":{\"color\":\"rgb(17,17,17)\"}},\"header\":{\"fill\":{\"color\":\"#2a3f5f\"},\"line\":{\"color\":\"rgb(17,17,17)\"}},\"type\":\"table\"}]},\"layout\":{\"annotationdefaults\":{\"arrowcolor\":\"#f2f5fa\",\"arrowhead\":0,\"arrowwidth\":1},\"autotypenumbers\":\"strict\",\"coloraxis\":{\"colorbar\":{\"outlinewidth\":0,\"ticks\":\"\"}},\"colorscale\":{\"diverging\":[[0,\"#8e0152\"],[0.1,\"#c51b7d\"],[0.2,\"#de77ae\"],[0.3,\"#f1b6da\"],[0.4,\"#fde0ef\"],[0.5,\"#f7f7f7\"],[0.6,\"#e6f5d0\"],[0.7,\"#b8e186\"],[0.8,\"#7fbc41\"],[0.9,\"#4d9221\"],[1,\"#276419\"]],\"sequential\":[[0.0,\"#0d0887\"],[0.1111111111111111,\"#46039f\"],[0.2222222222222222,\"#7201a8\"],[0.3333333333333333,\"#9c179e\"],[0.4444444444444444,\"#bd3786\"],[0.5555555555555556,\"#d8576b\"],[0.6666666666666666,\"#ed7953\"],[0.7777777777777778,\"#fb9f3a\"],[0.8888888888888888,\"#fdca26\"],[1.0,\"#f0f921\"]],\"sequentialminus\":[[0.0,\"#0d0887\"],[0.1111111111111111,\"#46039f\"],[0.2222222222222222,\"#7201a8\"],[0.3333333333333333,\"#9c179e\"],[0.4444444444444444,\"#bd3786\"],[0.5555555555555556,\"#d8576b\"],[0.6666666666666666,\"#ed7953\"],[0.7777777777777778,\"#fb9f3a\"],[0.8888888888888888,\"#fdca26\"],[1.0,\"#f0f921\"]]},\"colorway\":[\"#636efa\",\"#EF553B\",\"#00cc96\",\"#ab63fa\",\"#FFA15A\",\"#19d3f3\",\"#FF6692\",\"#B6E880\",\"#FF97FF\",\"#FECB52\"],\"font\":{\"color\":\"#f2f5fa\"},\"geo\":{\"bgcolor\":\"rgb(17,17,17)\",\"lakecolor\":\"rgb(17,17,17)\",\"landcolor\":\"rgb(17,17,17)\",\"showlakes\":true,\"showland\":true,\"subunitcolor\":\"#506784\"},\"hoverlabel\":{\"align\":\"left\"},\"hovermode\":\"closest\",\"mapbox\":{\"style\":\"dark\"},\"paper_bgcolor\":\"rgb(17,17,17)\",\"plot_bgcolor\":\"rgb(17,17,17)\",\"polar\":{\"angularaxis\":{\"gridcolor\":\"#506784\",\"linecolor\":\"#506784\",\"ticks\":\"\"},\"bgcolor\":\"rgb(17,17,17)\",\"radialaxis\":{\"gridcolor\":\"#506784\",\"linecolor\":\"#506784\",\"ticks\":\"\"}},\"scene\":{\"xaxis\":{\"backgroundcolor\":\"rgb(17,17,17)\",\"gridcolor\":\"#506784\",\"gridwidth\":2,\"linecolor\":\"#506784\",\"showbackground\":true,\"ticks\":\"\",\"zerolinecolor\":\"#C8D4E3\"},\"yaxis\":{\"backgroundcolor\":\"rgb(17,17,17)\",\"gridcolor\":\"#506784\",\"gridwidth\":2,\"linecolor\":\"#506784\",\"showbackground\":true,\"ticks\":\"\",\"zerolinecolor\":\"#C8D4E3\"},\"zaxis\":{\"backgroundcolor\":\"rgb(17,17,17)\",\"gridcolor\":\"#506784\",\"gridwidth\":2,\"linecolor\":\"#506784\",\"showbackground\":true,\"ticks\":\"\",\"zerolinecolor\":\"#C8D4E3\"}},\"shapedefaults\":{\"line\":{\"color\":\"#f2f5fa\"}},\"sliderdefaults\":{\"bgcolor\":\"#C8D4E3\",\"bordercolor\":\"rgb(17,17,17)\",\"borderwidth\":1,\"tickwidth\":0},\"ternary\":{\"aaxis\":{\"gridcolor\":\"#506784\",\"linecolor\":\"#506784\",\"ticks\":\"\"},\"baxis\":{\"gridcolor\":\"#506784\",\"linecolor\":\"#506784\",\"ticks\":\"\"},\"bgcolor\":\"rgb(17,17,17)\",\"caxis\":{\"gridcolor\":\"#506784\",\"linecolor\":\"#506784\",\"ticks\":\"\"}},\"title\":{\"x\":0.05},\"updatemenudefaults\":{\"bgcolor\":\"#506784\",\"borderwidth\":0},\"xaxis\":{\"automargin\":true,\"gridcolor\":\"#283442\",\"linecolor\":\"#506784\",\"ticks\":\"\",\"title\":{\"standoff\":15},\"zerolinecolor\":\"#283442\",\"zerolinewidth\":2},\"yaxis\":{\"automargin\":true,\"gridcolor\":\"#283442\",\"linecolor\":\"#506784\",\"ticks\":\"\",\"title\":{\"standoff\":15},\"zerolinecolor\":\"#283442\",\"zerolinewidth\":2}}},\"xaxis\":{\"anchor\":\"y\",\"domain\":[0.0,1.0],\"title\":{\"text\":\"date\"}},\"yaxis\":{\"anchor\":\"x\",\"domain\":[0.0,1.0],\"title\":{\"text\":\"price\"}},\"legend\":{\"tracegroupgap\":0},\"margin\":{\"t\":60}},                        {\"responsive\": true}                    ).then(function(){\n",
       "                            \n",
       "var gd = document.getElementById('872e26ef-cda0-48fb-b631-305f0f9dd4a8');\n",
       "var x = new MutationObserver(function (mutations, observer) {{\n",
       "        var display = window.getComputedStyle(gd).display;\n",
       "        if (!display || display === 'none') {{\n",
       "            console.log([gd, 'removed!']);\n",
       "            Plotly.purge(gd);\n",
       "            observer.disconnect();\n",
       "        }}\n",
       "}});\n",
       "\n",
       "// Listen for the removal of the full notebook cells\n",
       "var notebookContainer = gd.closest('#notebook-container');\n",
       "if (notebookContainer) {{\n",
       "    x.observe(notebookContainer, {childList: true});\n",
       "}}\n",
       "\n",
       "// Listen for the clearing of the current output cell\n",
       "var outputEl = gd.closest('.output');\n",
       "if (outputEl) {{\n",
       "    x.observe(outputEl, {childList: true});\n",
       "}}\n",
       "\n",
       "                        })                };                            </script>        </div>\n",
       "</body>\n",
       "</html>"
      ]
     },
     "metadata": {},
     "output_type": "display_data"
    }
   ],
   "source": [
    "import plotly.express as px\n",
    "fig = px.line(df, x=\"date\", y=\"price\", template = 'plotly_dark')\n",
    "fig.show()"
   ]
  },
  {
   "cell_type": "code",
   "execution_count": null,
   "metadata": {
    "id": "aoeOaJG1oFpi"
   },
   "outputs": [],
   "source": [
    "train_split = round(len(df)*0.7)\n",
    "test_split = len(df) - train_split"
   ]
  },
  {
   "cell_type": "code",
   "execution_count": null,
   "metadata": {
    "id": "z5kb4lKlnnBS"
   },
   "outputs": [],
   "source": [
    "train = df.head(train_split)\n",
    "test = df.tail(test_split)"
   ]
  },
  {
   "cell_type": "markdown",
   "metadata": {
    "id": "q4iOFjoK0BUM"
   },
   "source": [
    "____"
   ]
  },
  {
   "cell_type": "markdown",
   "metadata": {
    "id": "ZPXju-sYHskF"
   },
   "source": [
    "## Modelling"
   ]
  },
  {
   "cell_type": "code",
   "execution_count": null,
   "metadata": {
    "colab": {
     "base_uri": "https://localhost:8080/",
     "height": 770
    },
    "id": "2kkn2pC9HskF",
    "outputId": "950a053b-06a9-442d-bf24-d3135b5800ef"
   },
   "outputs": [
    {
     "data": {
      "text/html": [
       "<style type=\"text/css\">\n",
       "#T_ebded_row10_col1, #T_ebded_row14_col1 {\n",
       "  background-color: lightgreen;\n",
       "}\n",
       "</style>\n",
       "<table id=\"T_ebded\" class=\"dataframe\">\n",
       "  <thead>\n",
       "    <tr>\n",
       "      <th class=\"blank level0\" >&nbsp;</th>\n",
       "      <th id=\"T_ebded_level0_col0\" class=\"col_heading level0 col0\" >Description</th>\n",
       "      <th id=\"T_ebded_level0_col1\" class=\"col_heading level0 col1\" >Value</th>\n",
       "    </tr>\n",
       "  </thead>\n",
       "  <tbody>\n",
       "    <tr>\n",
       "      <th id=\"T_ebded_level0_row0\" class=\"row_heading level0 row0\" >0</th>\n",
       "      <td id=\"T_ebded_row0_col0\" class=\"data row0 col0\" >Session id</td>\n",
       "      <td id=\"T_ebded_row0_col1\" class=\"data row0 col1\" >123</td>\n",
       "    </tr>\n",
       "    <tr>\n",
       "      <th id=\"T_ebded_level0_row1\" class=\"row_heading level0 row1\" >1</th>\n",
       "      <td id=\"T_ebded_row1_col0\" class=\"data row1 col0\" >Target</td>\n",
       "      <td id=\"T_ebded_row1_col1\" class=\"data row1 col1\" >price</td>\n",
       "    </tr>\n",
       "    <tr>\n",
       "      <th id=\"T_ebded_level0_row2\" class=\"row_heading level0 row2\" >2</th>\n",
       "      <td id=\"T_ebded_row2_col0\" class=\"data row2 col0\" >Target type</td>\n",
       "      <td id=\"T_ebded_row2_col1\" class=\"data row2 col1\" >Regression</td>\n",
       "    </tr>\n",
       "    <tr>\n",
       "      <th id=\"T_ebded_level0_row3\" class=\"row_heading level0 row3\" >3</th>\n",
       "      <td id=\"T_ebded_row3_col0\" class=\"data row3 col0\" >Original data shape</td>\n",
       "      <td id=\"T_ebded_row3_col1\" class=\"data row3 col1\" >(366, 6)</td>\n",
       "    </tr>\n",
       "    <tr>\n",
       "      <th id=\"T_ebded_level0_row4\" class=\"row_heading level0 row4\" >4</th>\n",
       "      <td id=\"T_ebded_row4_col0\" class=\"data row4 col0\" >Transformed data shape</td>\n",
       "      <td id=\"T_ebded_row4_col1\" class=\"data row4 col1\" >(366, 5)</td>\n",
       "    </tr>\n",
       "    <tr>\n",
       "      <th id=\"T_ebded_level0_row5\" class=\"row_heading level0 row5\" >5</th>\n",
       "      <td id=\"T_ebded_row5_col0\" class=\"data row5 col0\" >Transformed train set shape</td>\n",
       "      <td id=\"T_ebded_row5_col1\" class=\"data row5 col1\" >(256, 5)</td>\n",
       "    </tr>\n",
       "    <tr>\n",
       "      <th id=\"T_ebded_level0_row6\" class=\"row_heading level0 row6\" >6</th>\n",
       "      <td id=\"T_ebded_row6_col0\" class=\"data row6 col0\" >Transformed test set shape</td>\n",
       "      <td id=\"T_ebded_row6_col1\" class=\"data row6 col1\" >(110, 5)</td>\n",
       "    </tr>\n",
       "    <tr>\n",
       "      <th id=\"T_ebded_level0_row7\" class=\"row_heading level0 row7\" >7</th>\n",
       "      <td id=\"T_ebded_row7_col0\" class=\"data row7 col0\" >Ignore features</td>\n",
       "      <td id=\"T_ebded_row7_col1\" class=\"data row7 col1\" >3</td>\n",
       "    </tr>\n",
       "    <tr>\n",
       "      <th id=\"T_ebded_level0_row8\" class=\"row_heading level0 row8\" >8</th>\n",
       "      <td id=\"T_ebded_row8_col0\" class=\"data row8 col0\" >Numeric features</td>\n",
       "      <td id=\"T_ebded_row8_col1\" class=\"data row8 col1\" >1</td>\n",
       "    </tr>\n",
       "    <tr>\n",
       "      <th id=\"T_ebded_level0_row9\" class=\"row_heading level0 row9\" >9</th>\n",
       "      <td id=\"T_ebded_row9_col0\" class=\"data row9 col0\" >Date features</td>\n",
       "      <td id=\"T_ebded_row9_col1\" class=\"data row9 col1\" >1</td>\n",
       "    </tr>\n",
       "    <tr>\n",
       "      <th id=\"T_ebded_level0_row10\" class=\"row_heading level0 row10\" >10</th>\n",
       "      <td id=\"T_ebded_row10_col0\" class=\"data row10 col0\" >Preprocess</td>\n",
       "      <td id=\"T_ebded_row10_col1\" class=\"data row10 col1\" >True</td>\n",
       "    </tr>\n",
       "    <tr>\n",
       "      <th id=\"T_ebded_level0_row11\" class=\"row_heading level0 row11\" >11</th>\n",
       "      <td id=\"T_ebded_row11_col0\" class=\"data row11 col0\" >Imputation type</td>\n",
       "      <td id=\"T_ebded_row11_col1\" class=\"data row11 col1\" >simple</td>\n",
       "    </tr>\n",
       "    <tr>\n",
       "      <th id=\"T_ebded_level0_row12\" class=\"row_heading level0 row12\" >12</th>\n",
       "      <td id=\"T_ebded_row12_col0\" class=\"data row12 col0\" >Numeric imputation</td>\n",
       "      <td id=\"T_ebded_row12_col1\" class=\"data row12 col1\" >mean</td>\n",
       "    </tr>\n",
       "    <tr>\n",
       "      <th id=\"T_ebded_level0_row13\" class=\"row_heading level0 row13\" >13</th>\n",
       "      <td id=\"T_ebded_row13_col0\" class=\"data row13 col0\" >Categorical imputation</td>\n",
       "      <td id=\"T_ebded_row13_col1\" class=\"data row13 col1\" >mode</td>\n",
       "    </tr>\n",
       "    <tr>\n",
       "      <th id=\"T_ebded_level0_row14\" class=\"row_heading level0 row14\" >14</th>\n",
       "      <td id=\"T_ebded_row14_col0\" class=\"data row14 col0\" >Transform target</td>\n",
       "      <td id=\"T_ebded_row14_col1\" class=\"data row14 col1\" >True</td>\n",
       "    </tr>\n",
       "    <tr>\n",
       "      <th id=\"T_ebded_level0_row15\" class=\"row_heading level0 row15\" >15</th>\n",
       "      <td id=\"T_ebded_row15_col0\" class=\"data row15 col0\" >Transform target method</td>\n",
       "      <td id=\"T_ebded_row15_col1\" class=\"data row15 col1\" >yeo-johnson</td>\n",
       "    </tr>\n",
       "    <tr>\n",
       "      <th id=\"T_ebded_level0_row16\" class=\"row_heading level0 row16\" >16</th>\n",
       "      <td id=\"T_ebded_row16_col0\" class=\"data row16 col0\" >Fold Generator</td>\n",
       "      <td id=\"T_ebded_row16_col1\" class=\"data row16 col1\" >TimeSeriesSplit</td>\n",
       "    </tr>\n",
       "    <tr>\n",
       "      <th id=\"T_ebded_level0_row17\" class=\"row_heading level0 row17\" >17</th>\n",
       "      <td id=\"T_ebded_row17_col0\" class=\"data row17 col0\" >Fold Number</td>\n",
       "      <td id=\"T_ebded_row17_col1\" class=\"data row17 col1\" >10</td>\n",
       "    </tr>\n",
       "    <tr>\n",
       "      <th id=\"T_ebded_level0_row18\" class=\"row_heading level0 row18\" >18</th>\n",
       "      <td id=\"T_ebded_row18_col0\" class=\"data row18 col0\" >CPU Jobs</td>\n",
       "      <td id=\"T_ebded_row18_col1\" class=\"data row18 col1\" >-1</td>\n",
       "    </tr>\n",
       "    <tr>\n",
       "      <th id=\"T_ebded_level0_row19\" class=\"row_heading level0 row19\" >19</th>\n",
       "      <td id=\"T_ebded_row19_col0\" class=\"data row19 col0\" >Use GPU</td>\n",
       "      <td id=\"T_ebded_row19_col1\" class=\"data row19 col1\" >False</td>\n",
       "    </tr>\n",
       "    <tr>\n",
       "      <th id=\"T_ebded_level0_row20\" class=\"row_heading level0 row20\" >20</th>\n",
       "      <td id=\"T_ebded_row20_col0\" class=\"data row20 col0\" >Log Experiment</td>\n",
       "      <td id=\"T_ebded_row20_col1\" class=\"data row20 col1\" >False</td>\n",
       "    </tr>\n",
       "    <tr>\n",
       "      <th id=\"T_ebded_level0_row21\" class=\"row_heading level0 row21\" >21</th>\n",
       "      <td id=\"T_ebded_row21_col0\" class=\"data row21 col0\" >Experiment Name</td>\n",
       "      <td id=\"T_ebded_row21_col1\" class=\"data row21 col1\" >reg-default-name</td>\n",
       "    </tr>\n",
       "    <tr>\n",
       "      <th id=\"T_ebded_level0_row22\" class=\"row_heading level0 row22\" >22</th>\n",
       "      <td id=\"T_ebded_row22_col0\" class=\"data row22 col0\" >USI</td>\n",
       "      <td id=\"T_ebded_row22_col1\" class=\"data row22 col1\" >94c1</td>\n",
       "    </tr>\n",
       "  </tbody>\n",
       "</table>\n"
      ],
      "text/plain": [
       "<pandas.io.formats.style.Styler at 0x7fafe6ed3ac0>"
      ]
     },
     "metadata": {},
     "output_type": "display_data"
    }
   ],
   "source": [
    "time_series = setup(data = train, \n",
    "                    test_data = test, \n",
    "                    target = 'price', \n",
    "                    fold_strategy = 'timeseries', \n",
    "                    # numeric_features = ['day', 'month', 'year', 'series'], ignore_features = ['date'], \n",
    "                    numeric_features = ['series'], ignore_features = ['day', 'month', 'year'], \n",
    "                    transform_target = True, \n",
    "                    session_id = 123)"
   ]
  },
  {
   "cell_type": "markdown",
   "metadata": {
    "id": "W1M6mFz1HskH"
   },
   "source": [
    "### Compare models"
   ]
  },
  {
   "cell_type": "code",
   "execution_count": null,
   "metadata": {
    "colab": {
     "base_uri": "https://localhost:8080/",
     "height": 645,
     "referenced_widgets": [
      "23fa4f75b48945908e7b8e9e31c8c753",
      "8db26d9600cc47cb899f4e6fba09e0f6",
      "fd314ad3d1ce44ee8ceec5ba1c9db551",
      "1005f02aacde4342b4f361f232d188b3",
      "296df74b1f834ac48fa998a0ce3fa62d",
      "2ca233b56ab54803be534c178f216be1",
      "03cb727b3f10470a83742900b13aa8d0",
      "4c91d3fa2871403c95948b04492e3266",
      "347f9d6646f64cfba1ef0315c428f77d",
      "d0ed4d7822ec4d67acbf8480c33504bc",
      "5ee6bdd6a82d461494e7c99c1b5e9768"
     ]
    },
    "id": "2uTPGKAxHskH",
    "outputId": "7af84a79-170d-424d-cc35-d876f4ae0493",
    "scrolled": true
   },
   "outputs": [
    {
     "data": {
      "text/html": [],
      "text/plain": [
       "<IPython.core.display.HTML object>"
      ]
     },
     "metadata": {},
     "output_type": "display_data"
    },
    {
     "data": {
      "text/html": [
       "<style type=\"text/css\">\n",
       "#T_cbe8d th {\n",
       "  text-align: left;\n",
       "}\n",
       "#T_cbe8d_row0_col0, #T_cbe8d_row0_col1, #T_cbe8d_row0_col2, #T_cbe8d_row0_col3, #T_cbe8d_row0_col5, #T_cbe8d_row0_col6, #T_cbe8d_row1_col0, #T_cbe8d_row1_col1, #T_cbe8d_row1_col2, #T_cbe8d_row1_col3, #T_cbe8d_row1_col4, #T_cbe8d_row1_col5, #T_cbe8d_row1_col6, #T_cbe8d_row2_col0, #T_cbe8d_row2_col1, #T_cbe8d_row2_col2, #T_cbe8d_row2_col3, #T_cbe8d_row2_col4, #T_cbe8d_row2_col5, #T_cbe8d_row2_col6, #T_cbe8d_row3_col0, #T_cbe8d_row3_col1, #T_cbe8d_row3_col2, #T_cbe8d_row3_col3, #T_cbe8d_row3_col4, #T_cbe8d_row3_col5, #T_cbe8d_row3_col6, #T_cbe8d_row4_col0, #T_cbe8d_row4_col4, #T_cbe8d_row5_col0, #T_cbe8d_row5_col1, #T_cbe8d_row5_col2, #T_cbe8d_row5_col3, #T_cbe8d_row5_col4, #T_cbe8d_row5_col5, #T_cbe8d_row5_col6, #T_cbe8d_row6_col0, #T_cbe8d_row6_col1, #T_cbe8d_row6_col2, #T_cbe8d_row6_col3, #T_cbe8d_row6_col4, #T_cbe8d_row6_col5, #T_cbe8d_row6_col6, #T_cbe8d_row7_col0, #T_cbe8d_row7_col1, #T_cbe8d_row7_col2, #T_cbe8d_row7_col3, #T_cbe8d_row7_col4, #T_cbe8d_row7_col5, #T_cbe8d_row7_col6, #T_cbe8d_row8_col0, #T_cbe8d_row8_col1, #T_cbe8d_row8_col2, #T_cbe8d_row8_col3, #T_cbe8d_row8_col4, #T_cbe8d_row8_col5, #T_cbe8d_row8_col6, #T_cbe8d_row9_col0, #T_cbe8d_row9_col1, #T_cbe8d_row9_col2, #T_cbe8d_row9_col3, #T_cbe8d_row9_col4, #T_cbe8d_row9_col5, #T_cbe8d_row9_col6, #T_cbe8d_row10_col0, #T_cbe8d_row10_col1, #T_cbe8d_row10_col2, #T_cbe8d_row10_col3, #T_cbe8d_row10_col4, #T_cbe8d_row10_col5, #T_cbe8d_row10_col6, #T_cbe8d_row11_col0, #T_cbe8d_row11_col1, #T_cbe8d_row11_col2, #T_cbe8d_row11_col3, #T_cbe8d_row11_col4, #T_cbe8d_row11_col5, #T_cbe8d_row11_col6, #T_cbe8d_row12_col0, #T_cbe8d_row12_col1, #T_cbe8d_row12_col2, #T_cbe8d_row12_col3, #T_cbe8d_row12_col4, #T_cbe8d_row12_col5, #T_cbe8d_row12_col6, #T_cbe8d_row13_col0, #T_cbe8d_row13_col1, #T_cbe8d_row13_col2, #T_cbe8d_row13_col3, #T_cbe8d_row13_col4, #T_cbe8d_row13_col5, #T_cbe8d_row13_col6, #T_cbe8d_row14_col0, #T_cbe8d_row14_col1, #T_cbe8d_row14_col2, #T_cbe8d_row14_col3, #T_cbe8d_row14_col4, #T_cbe8d_row14_col5, #T_cbe8d_row14_col6, #T_cbe8d_row15_col0, #T_cbe8d_row15_col1, #T_cbe8d_row15_col2, #T_cbe8d_row15_col3, #T_cbe8d_row15_col4, #T_cbe8d_row15_col5, #T_cbe8d_row15_col6, #T_cbe8d_row16_col0, #T_cbe8d_row16_col1, #T_cbe8d_row16_col2, #T_cbe8d_row16_col3, #T_cbe8d_row16_col4, #T_cbe8d_row16_col5, #T_cbe8d_row16_col6, #T_cbe8d_row17_col0, #T_cbe8d_row17_col1, #T_cbe8d_row17_col2, #T_cbe8d_row17_col3, #T_cbe8d_row17_col4, #T_cbe8d_row17_col5, #T_cbe8d_row17_col6, #T_cbe8d_row18_col0, #T_cbe8d_row18_col1, #T_cbe8d_row18_col2, #T_cbe8d_row18_col3, #T_cbe8d_row18_col4, #T_cbe8d_row18_col5, #T_cbe8d_row18_col6 {\n",
       "  text-align: left;\n",
       "}\n",
       "#T_cbe8d_row0_col4, #T_cbe8d_row4_col1, #T_cbe8d_row4_col2, #T_cbe8d_row4_col3, #T_cbe8d_row4_col5, #T_cbe8d_row4_col6 {\n",
       "  text-align: left;\n",
       "  background-color: yellow;\n",
       "}\n",
       "#T_cbe8d_row0_col7, #T_cbe8d_row1_col7, #T_cbe8d_row2_col7, #T_cbe8d_row3_col7, #T_cbe8d_row4_col7, #T_cbe8d_row5_col7, #T_cbe8d_row6_col7, #T_cbe8d_row8_col7, #T_cbe8d_row9_col7, #T_cbe8d_row10_col7, #T_cbe8d_row11_col7, #T_cbe8d_row12_col7, #T_cbe8d_row13_col7, #T_cbe8d_row14_col7, #T_cbe8d_row15_col7, #T_cbe8d_row16_col7, #T_cbe8d_row17_col7, #T_cbe8d_row18_col7 {\n",
       "  text-align: left;\n",
       "  background-color: lightgrey;\n",
       "}\n",
       "#T_cbe8d_row7_col7 {\n",
       "  text-align: left;\n",
       "  background-color: yellow;\n",
       "  background-color: lightgrey;\n",
       "}\n",
       "</style>\n",
       "<table id=\"T_cbe8d\" class=\"dataframe\">\n",
       "  <thead>\n",
       "    <tr>\n",
       "      <th class=\"blank level0\" >&nbsp;</th>\n",
       "      <th id=\"T_cbe8d_level0_col0\" class=\"col_heading level0 col0\" >Model</th>\n",
       "      <th id=\"T_cbe8d_level0_col1\" class=\"col_heading level0 col1\" >MAE</th>\n",
       "      <th id=\"T_cbe8d_level0_col2\" class=\"col_heading level0 col2\" >MSE</th>\n",
       "      <th id=\"T_cbe8d_level0_col3\" class=\"col_heading level0 col3\" >RMSE</th>\n",
       "      <th id=\"T_cbe8d_level0_col4\" class=\"col_heading level0 col4\" >R2</th>\n",
       "      <th id=\"T_cbe8d_level0_col5\" class=\"col_heading level0 col5\" >RMSLE</th>\n",
       "      <th id=\"T_cbe8d_level0_col6\" class=\"col_heading level0 col6\" >MAPE</th>\n",
       "      <th id=\"T_cbe8d_level0_col7\" class=\"col_heading level0 col7\" >TT (Sec)</th>\n",
       "    </tr>\n",
       "  </thead>\n",
       "  <tbody>\n",
       "    <tr>\n",
       "      <th id=\"T_cbe8d_level0_row0\" class=\"row_heading level0 row0\" >gbr</th>\n",
       "      <td id=\"T_cbe8d_row0_col0\" class=\"data row0 col0\" >Gradient Boosting Regressor</td>\n",
       "      <td id=\"T_cbe8d_row0_col1\" class=\"data row0 col1\" >1853.3572</td>\n",
       "      <td id=\"T_cbe8d_row0_col2\" class=\"data row0 col2\" >8579176.6941</td>\n",
       "      <td id=\"T_cbe8d_row0_col3\" class=\"data row0 col3\" >2247.0752</td>\n",
       "      <td id=\"T_cbe8d_row0_col4\" class=\"data row0 col4\" >-6.3893</td>\n",
       "      <td id=\"T_cbe8d_row0_col5\" class=\"data row0 col5\" >0.1034</td>\n",
       "      <td id=\"T_cbe8d_row0_col6\" class=\"data row0 col6\" >0.0910</td>\n",
       "      <td id=\"T_cbe8d_row0_col7\" class=\"data row0 col7\" >0.1760</td>\n",
       "    </tr>\n",
       "    <tr>\n",
       "      <th id=\"T_cbe8d_level0_row1\" class=\"row_heading level0 row1\" >et</th>\n",
       "      <td id=\"T_cbe8d_row1_col0\" class=\"data row1 col0\" >Extra Trees Regressor</td>\n",
       "      <td id=\"T_cbe8d_row1_col1\" class=\"data row1 col1\" >1981.3389</td>\n",
       "      <td id=\"T_cbe8d_row1_col2\" class=\"data row1 col2\" >8801502.5024</td>\n",
       "      <td id=\"T_cbe8d_row1_col3\" class=\"data row1 col3\" >2371.0812</td>\n",
       "      <td id=\"T_cbe8d_row1_col4\" class=\"data row1 col4\" >-6.9149</td>\n",
       "      <td id=\"T_cbe8d_row1_col5\" class=\"data row1 col5\" >0.1102</td>\n",
       "      <td id=\"T_cbe8d_row1_col6\" class=\"data row1 col6\" >0.0999</td>\n",
       "      <td id=\"T_cbe8d_row1_col7\" class=\"data row1 col7\" >0.3090</td>\n",
       "    </tr>\n",
       "    <tr>\n",
       "      <th id=\"T_cbe8d_level0_row2\" class=\"row_heading level0 row2\" >rf</th>\n",
       "      <td id=\"T_cbe8d_row2_col0\" class=\"data row2 col0\" >Random Forest Regressor</td>\n",
       "      <td id=\"T_cbe8d_row2_col1\" class=\"data row2 col1\" >1803.2192</td>\n",
       "      <td id=\"T_cbe8d_row2_col2\" class=\"data row2 col2\" >7748188.7482</td>\n",
       "      <td id=\"T_cbe8d_row2_col3\" class=\"data row2 col3\" >2157.0314</td>\n",
       "      <td id=\"T_cbe8d_row2_col4\" class=\"data row2 col4\" >-7.6299</td>\n",
       "      <td id=\"T_cbe8d_row2_col5\" class=\"data row2 col5\" >0.1008</td>\n",
       "      <td id=\"T_cbe8d_row2_col6\" class=\"data row2 col6\" >0.0894</td>\n",
       "      <td id=\"T_cbe8d_row2_col7\" class=\"data row2 col7\" >0.5770</td>\n",
       "    </tr>\n",
       "    <tr>\n",
       "      <th id=\"T_cbe8d_level0_row3\" class=\"row_heading level0 row3\" >dt</th>\n",
       "      <td id=\"T_cbe8d_row3_col0\" class=\"data row3 col0\" >Decision Tree Regressor</td>\n",
       "      <td id=\"T_cbe8d_row3_col1\" class=\"data row3 col1\" >1990.5171</td>\n",
       "      <td id=\"T_cbe8d_row3_col2\" class=\"data row3 col2\" >10320342.8872</td>\n",
       "      <td id=\"T_cbe8d_row3_col3\" class=\"data row3 col3\" >2427.7753</td>\n",
       "      <td id=\"T_cbe8d_row3_col4\" class=\"data row3 col4\" >-8.1380</td>\n",
       "      <td id=\"T_cbe8d_row3_col5\" class=\"data row3 col5\" >0.1103</td>\n",
       "      <td id=\"T_cbe8d_row3_col6\" class=\"data row3 col6\" >0.0981</td>\n",
       "      <td id=\"T_cbe8d_row3_col7\" class=\"data row3 col7\" >0.1290</td>\n",
       "    </tr>\n",
       "    <tr>\n",
       "      <th id=\"T_cbe8d_level0_row4\" class=\"row_heading level0 row4\" >ada</th>\n",
       "      <td id=\"T_cbe8d_row4_col0\" class=\"data row4 col0\" >AdaBoost Regressor</td>\n",
       "      <td id=\"T_cbe8d_row4_col1\" class=\"data row4 col1\" >1802.7050</td>\n",
       "      <td id=\"T_cbe8d_row4_col2\" class=\"data row4 col2\" >7247413.4882</td>\n",
       "      <td id=\"T_cbe8d_row4_col3\" class=\"data row4 col3\" >2123.3031</td>\n",
       "      <td id=\"T_cbe8d_row4_col4\" class=\"data row4 col4\" >-8.2656</td>\n",
       "      <td id=\"T_cbe8d_row4_col5\" class=\"data row4 col5\" >0.1000</td>\n",
       "      <td id=\"T_cbe8d_row4_col6\" class=\"data row4 col6\" >0.0891</td>\n",
       "      <td id=\"T_cbe8d_row4_col7\" class=\"data row4 col7\" >0.1520</td>\n",
       "    </tr>\n",
       "    <tr>\n",
       "      <th id=\"T_cbe8d_level0_row5\" class=\"row_heading level0 row5\" >omp</th>\n",
       "      <td id=\"T_cbe8d_row5_col0\" class=\"data row5 col0\" >Orthogonal Matching Pursuit</td>\n",
       "      <td id=\"T_cbe8d_row5_col1\" class=\"data row5 col1\" >2113.5953</td>\n",
       "      <td id=\"T_cbe8d_row5_col2\" class=\"data row5 col2\" >10715097.4677</td>\n",
       "      <td id=\"T_cbe8d_row5_col3\" class=\"data row5 col3\" >2434.0677</td>\n",
       "      <td id=\"T_cbe8d_row5_col4\" class=\"data row5 col4\" >-9.4094</td>\n",
       "      <td id=\"T_cbe8d_row5_col5\" class=\"data row5 col5\" >0.1178</td>\n",
       "      <td id=\"T_cbe8d_row5_col6\" class=\"data row5 col6\" >0.0996</td>\n",
       "      <td id=\"T_cbe8d_row5_col7\" class=\"data row5 col7\" >0.2150</td>\n",
       "    </tr>\n",
       "    <tr>\n",
       "      <th id=\"T_cbe8d_level0_row6\" class=\"row_heading level0 row6\" >lar</th>\n",
       "      <td id=\"T_cbe8d_row6_col0\" class=\"data row6 col0\" >Least Angle Regression</td>\n",
       "      <td id=\"T_cbe8d_row6_col1\" class=\"data row6 col1\" >2055.2620</td>\n",
       "      <td id=\"T_cbe8d_row6_col2\" class=\"data row6 col2\" >10065716.3363</td>\n",
       "      <td id=\"T_cbe8d_row6_col3\" class=\"data row6 col3\" >2373.8168</td>\n",
       "      <td id=\"T_cbe8d_row6_col4\" class=\"data row6 col4\" >-9.5768</td>\n",
       "      <td id=\"T_cbe8d_row6_col5\" class=\"data row6 col5\" >0.1161</td>\n",
       "      <td id=\"T_cbe8d_row6_col6\" class=\"data row6 col6\" >0.0971</td>\n",
       "      <td id=\"T_cbe8d_row6_col7\" class=\"data row6 col7\" >0.1580</td>\n",
       "    </tr>\n",
       "    <tr>\n",
       "      <th id=\"T_cbe8d_level0_row7\" class=\"row_heading level0 row7\" >ridge</th>\n",
       "      <td id=\"T_cbe8d_row7_col0\" class=\"data row7 col0\" >Ridge Regression</td>\n",
       "      <td id=\"T_cbe8d_row7_col1\" class=\"data row7 col1\" >2173.1562</td>\n",
       "      <td id=\"T_cbe8d_row7_col2\" class=\"data row7 col2\" >10617629.3433</td>\n",
       "      <td id=\"T_cbe8d_row7_col3\" class=\"data row7 col3\" >2477.2366</td>\n",
       "      <td id=\"T_cbe8d_row7_col4\" class=\"data row7 col4\" >-9.8110</td>\n",
       "      <td id=\"T_cbe8d_row7_col5\" class=\"data row7 col5\" >0.1230</td>\n",
       "      <td id=\"T_cbe8d_row7_col6\" class=\"data row7 col6\" >0.1037</td>\n",
       "      <td id=\"T_cbe8d_row7_col7\" class=\"data row7 col7\" >0.1140</td>\n",
       "    </tr>\n",
       "    <tr>\n",
       "      <th id=\"T_cbe8d_level0_row8\" class=\"row_heading level0 row8\" >knn</th>\n",
       "      <td id=\"T_cbe8d_row8_col0\" class=\"data row8 col0\" >K Neighbors Regressor</td>\n",
       "      <td id=\"T_cbe8d_row8_col1\" class=\"data row8 col1\" >1843.9281</td>\n",
       "      <td id=\"T_cbe8d_row8_col2\" class=\"data row8 col2\" >7685197.5547</td>\n",
       "      <td id=\"T_cbe8d_row8_col3\" class=\"data row8 col3\" >2200.5449</td>\n",
       "      <td id=\"T_cbe8d_row8_col4\" class=\"data row8 col4\" >-12.2209</td>\n",
       "      <td id=\"T_cbe8d_row8_col5\" class=\"data row8 col5\" >0.1043</td>\n",
       "      <td id=\"T_cbe8d_row8_col6\" class=\"data row8 col6\" >0.0935</td>\n",
       "      <td id=\"T_cbe8d_row8_col7\" class=\"data row8 col7\" >0.2130</td>\n",
       "    </tr>\n",
       "    <tr>\n",
       "      <th id=\"T_cbe8d_level0_row9\" class=\"row_heading level0 row9\" >lightgbm</th>\n",
       "      <td id=\"T_cbe8d_row9_col0\" class=\"data row9 col0\" >Light Gradient Boosting Machine</td>\n",
       "      <td id=\"T_cbe8d_row9_col1\" class=\"data row9 col1\" >2368.0159</td>\n",
       "      <td id=\"T_cbe8d_row9_col2\" class=\"data row9 col2\" >11805418.2352</td>\n",
       "      <td id=\"T_cbe8d_row9_col3\" class=\"data row9 col3\" >2764.5854</td>\n",
       "      <td id=\"T_cbe8d_row9_col4\" class=\"data row9 col4\" >-16.4633</td>\n",
       "      <td id=\"T_cbe8d_row9_col5\" class=\"data row9 col5\" >0.1267</td>\n",
       "      <td id=\"T_cbe8d_row9_col6\" class=\"data row9 col6\" >0.1186</td>\n",
       "      <td id=\"T_cbe8d_row9_col7\" class=\"data row9 col7\" >0.1370</td>\n",
       "    </tr>\n",
       "    <tr>\n",
       "      <th id=\"T_cbe8d_level0_row10\" class=\"row_heading level0 row10\" >lr</th>\n",
       "      <td id=\"T_cbe8d_row10_col0\" class=\"data row10 col0\" >Linear Regression</td>\n",
       "      <td id=\"T_cbe8d_row10_col1\" class=\"data row10 col1\" >3046.5066</td>\n",
       "      <td id=\"T_cbe8d_row10_col2\" class=\"data row10 col2\" >26010538.6843</td>\n",
       "      <td id=\"T_cbe8d_row10_col3\" class=\"data row10 col3\" >3451.1883</td>\n",
       "      <td id=\"T_cbe8d_row10_col4\" class=\"data row10 col4\" >-16.6359</td>\n",
       "      <td id=\"T_cbe8d_row10_col5\" class=\"data row10 col5\" >0.2533</td>\n",
       "      <td id=\"T_cbe8d_row10_col6\" class=\"data row10 col6\" >0.1526</td>\n",
       "      <td id=\"T_cbe8d_row10_col7\" class=\"data row10 col7\" >0.2140</td>\n",
       "    </tr>\n",
       "    <tr>\n",
       "      <th id=\"T_cbe8d_level0_row11\" class=\"row_heading level0 row11\" >huber</th>\n",
       "      <td id=\"T_cbe8d_row11_col0\" class=\"data row11 col0\" >Huber Regressor</td>\n",
       "      <td id=\"T_cbe8d_row11_col1\" class=\"data row11 col1\" >2770.1663</td>\n",
       "      <td id=\"T_cbe8d_row11_col2\" class=\"data row11 col2\" >17299671.3497</td>\n",
       "      <td id=\"T_cbe8d_row11_col3\" class=\"data row11 col3\" >3018.6298</td>\n",
       "      <td id=\"T_cbe8d_row11_col4\" class=\"data row11 col4\" >-22.4766</td>\n",
       "      <td id=\"T_cbe8d_row11_col5\" class=\"data row11 col5\" >0.1389</td>\n",
       "      <td id=\"T_cbe8d_row11_col6\" class=\"data row11 col6\" >0.1320</td>\n",
       "      <td id=\"T_cbe8d_row11_col7\" class=\"data row11 col7\" >0.2210</td>\n",
       "    </tr>\n",
       "    <tr>\n",
       "      <th id=\"T_cbe8d_level0_row12\" class=\"row_heading level0 row12\" >br</th>\n",
       "      <td id=\"T_cbe8d_row12_col0\" class=\"data row12 col0\" >Bayesian Ridge</td>\n",
       "      <td id=\"T_cbe8d_row12_col1\" class=\"data row12 col1\" >3766.3957</td>\n",
       "      <td id=\"T_cbe8d_row12_col2\" class=\"data row12 col2\" >30417939.8251</td>\n",
       "      <td id=\"T_cbe8d_row12_col3\" class=\"data row12 col3\" >4166.5446</td>\n",
       "      <td id=\"T_cbe8d_row12_col4\" class=\"data row12 col4\" >-26.9240</td>\n",
       "      <td id=\"T_cbe8d_row12_col5\" class=\"data row12 col5\" >0.2605</td>\n",
       "      <td id=\"T_cbe8d_row12_col6\" class=\"data row12 col6\" >0.1873</td>\n",
       "      <td id=\"T_cbe8d_row12_col7\" class=\"data row12 col7\" >0.3290</td>\n",
       "    </tr>\n",
       "    <tr>\n",
       "      <th id=\"T_cbe8d_level0_row13\" class=\"row_heading level0 row13\" >xgboost</th>\n",
       "      <td id=\"T_cbe8d_row13_col0\" class=\"data row13 col0\" >Extreme Gradient Boosting</td>\n",
       "      <td id=\"T_cbe8d_row13_col1\" class=\"data row13 col1\" >2869.4226</td>\n",
       "      <td id=\"T_cbe8d_row13_col2\" class=\"data row13 col2\" >12294858.6750</td>\n",
       "      <td id=\"T_cbe8d_row13_col3\" class=\"data row13 col3\" >3197.0229</td>\n",
       "      <td id=\"T_cbe8d_row13_col4\" class=\"data row13 col4\" >-37.3505</td>\n",
       "      <td id=\"T_cbe8d_row13_col5\" class=\"data row13 col5\" >0.1529</td>\n",
       "      <td id=\"T_cbe8d_row13_col6\" class=\"data row13 col6\" >0.1516</td>\n",
       "      <td id=\"T_cbe8d_row13_col7\" class=\"data row13 col7\" >0.1180</td>\n",
       "    </tr>\n",
       "    <tr>\n",
       "      <th id=\"T_cbe8d_level0_row14\" class=\"row_heading level0 row14\" >lasso</th>\n",
       "      <td id=\"T_cbe8d_row14_col0\" class=\"data row14 col0\" >Lasso Regression</td>\n",
       "      <td id=\"T_cbe8d_row14_col1\" class=\"data row14 col1\" >3345.1264</td>\n",
       "      <td id=\"T_cbe8d_row14_col2\" class=\"data row14 col2\" >16524478.4249</td>\n",
       "      <td id=\"T_cbe8d_row14_col3\" class=\"data row14 col3\" >3637.4245</td>\n",
       "      <td id=\"T_cbe8d_row14_col4\" class=\"data row14 col4\" >-48.9505</td>\n",
       "      <td id=\"T_cbe8d_row14_col5\" class=\"data row14 col5\" >0.1755</td>\n",
       "      <td id=\"T_cbe8d_row14_col6\" class=\"data row14 col6\" >0.1742</td>\n",
       "      <td id=\"T_cbe8d_row14_col7\" class=\"data row14 col7\" >0.2070</td>\n",
       "    </tr>\n",
       "    <tr>\n",
       "      <th id=\"T_cbe8d_level0_row15\" class=\"row_heading level0 row15\" >llar</th>\n",
       "      <td id=\"T_cbe8d_row15_col0\" class=\"data row15 col0\" >Lasso Least Angle Regression</td>\n",
       "      <td id=\"T_cbe8d_row15_col1\" class=\"data row15 col1\" >3345.1264</td>\n",
       "      <td id=\"T_cbe8d_row15_col2\" class=\"data row15 col2\" >16524478.4379</td>\n",
       "      <td id=\"T_cbe8d_row15_col3\" class=\"data row15 col3\" >3637.4245</td>\n",
       "      <td id=\"T_cbe8d_row15_col4\" class=\"data row15 col4\" >-48.9505</td>\n",
       "      <td id=\"T_cbe8d_row15_col5\" class=\"data row15 col5\" >0.1755</td>\n",
       "      <td id=\"T_cbe8d_row15_col6\" class=\"data row15 col6\" >0.1742</td>\n",
       "      <td id=\"T_cbe8d_row15_col7\" class=\"data row15 col7\" >0.1860</td>\n",
       "    </tr>\n",
       "    <tr>\n",
       "      <th id=\"T_cbe8d_level0_row16\" class=\"row_heading level0 row16\" >en</th>\n",
       "      <td id=\"T_cbe8d_row16_col0\" class=\"data row16 col0\" >Elastic Net</td>\n",
       "      <td id=\"T_cbe8d_row16_col1\" class=\"data row16 col1\" >3374.0432</td>\n",
       "      <td id=\"T_cbe8d_row16_col2\" class=\"data row16 col2\" >16840627.4792</td>\n",
       "      <td id=\"T_cbe8d_row16_col3\" class=\"data row16 col3\" >3663.7448</td>\n",
       "      <td id=\"T_cbe8d_row16_col4\" class=\"data row16 col4\" >-49.4557</td>\n",
       "      <td id=\"T_cbe8d_row16_col5\" class=\"data row16 col5\" >0.1771</td>\n",
       "      <td id=\"T_cbe8d_row16_col6\" class=\"data row16 col6\" >0.1754</td>\n",
       "      <td id=\"T_cbe8d_row16_col7\" class=\"data row16 col7\" >0.1670</td>\n",
       "    </tr>\n",
       "    <tr>\n",
       "      <th id=\"T_cbe8d_level0_row17\" class=\"row_heading level0 row17\" >dummy</th>\n",
       "      <td id=\"T_cbe8d_row17_col0\" class=\"data row17 col0\" >Dummy Regressor</td>\n",
       "      <td id=\"T_cbe8d_row17_col1\" class=\"data row17 col1\" >3914.5203</td>\n",
       "      <td id=\"T_cbe8d_row17_col2\" class=\"data row17 col2\" >21243448.3500</td>\n",
       "      <td id=\"T_cbe8d_row17_col3\" class=\"data row17 col3\" >4211.3642</td>\n",
       "      <td id=\"T_cbe8d_row17_col4\" class=\"data row17 col4\" >-57.1667</td>\n",
       "      <td id=\"T_cbe8d_row17_col5\" class=\"data row17 col5\" >0.1942</td>\n",
       "      <td id=\"T_cbe8d_row17_col6\" class=\"data row17 col6\" >0.2046</td>\n",
       "      <td id=\"T_cbe8d_row17_col7\" class=\"data row17 col7\" >0.1670</td>\n",
       "    </tr>\n",
       "    <tr>\n",
       "      <th id=\"T_cbe8d_level0_row18\" class=\"row_heading level0 row18\" >par</th>\n",
       "      <td id=\"T_cbe8d_row18_col0\" class=\"data row18 col0\" >Passive Aggressive Regressor</td>\n",
       "      <td id=\"T_cbe8d_row18_col1\" class=\"data row18 col1\" >17629.8829</td>\n",
       "      <td id=\"T_cbe8d_row18_col2\" class=\"data row18 col2\" >345923976.6288</td>\n",
       "      <td id=\"T_cbe8d_row18_col3\" class=\"data row18 col3\" >17701.4614</td>\n",
       "      <td id=\"T_cbe8d_row18_col4\" class=\"data row18 col4\" >-934.5734</td>\n",
       "      <td id=\"T_cbe8d_row18_col5\" class=\"data row18 col5\" >6.6397</td>\n",
       "      <td id=\"T_cbe8d_row18_col6\" class=\"data row18 col6\" >0.8866</td>\n",
       "      <td id=\"T_cbe8d_row18_col7\" class=\"data row18 col7\" >0.1730</td>\n",
       "    </tr>\n",
       "  </tbody>\n",
       "</table>\n"
      ],
      "text/plain": [
       "<pandas.io.formats.style.Styler at 0x7fafe7ef5ae0>"
      ]
     },
     "metadata": {},
     "output_type": "display_data"
    },
    {
     "data": {
      "application/vnd.jupyter.widget-view+json": {
       "model_id": "23fa4f75b48945908e7b8e9e31c8c753",
       "version_major": 2,
       "version_minor": 0
      },
      "text/plain": [
       "Processing:   0%|          | 0/81 [00:00<?, ?it/s]"
      ]
     },
     "metadata": {
      "application/vnd.jupyter.widget-view+json": {
       "colab": {
        "custom_widget_manager": {
         "url": "https://ssl.gstatic.com/colaboratory-static/widgets/colab-cdn-widget-manager/b3e629b1971e1542/manager.min.js"
        }
       }
      }
     },
     "output_type": "display_data"
    },
    {
     "data": {
      "text/html": [],
      "text/plain": [
       "<IPython.core.display.HTML object>"
      ]
     },
     "metadata": {},
     "output_type": "display_data"
    }
   ],
   "source": [
    "best_model = compare_models()"
   ]
  },
  {
   "cell_type": "markdown",
   "metadata": {
    "id": "gv5Eb7XU0BUP"
   },
   "source": [
    "### Tune model"
   ]
  },
  {
   "cell_type": "code",
   "execution_count": null,
   "metadata": {
    "colab": {
     "base_uri": "https://localhost:8080/",
     "height": 514,
     "referenced_widgets": [
      "1994ead5c59e4f6293e9cec074a04a24",
      "055696bf78f34134be0d5d70ab1142bb",
      "1c9c0f1d60d04730912d0c6f8989f1e1",
      "8c91938aba834f27bf1e330358831367",
      "e1ecae00faba479a93352b48801e5956",
      "ada411ba70e8416ca58b821c8f781958",
      "8500130d6f7e45e59c140a4717bfc3dc",
      "86093ea1c6444d7e93578ca84023c020",
      "f3aec2fd395240a18ccf8462597cc8ed",
      "6a2848ee8816429ab05a85d5996659e7",
      "c0e2a369060d4f7cb3158198f809b5c1"
     ]
    },
    "id": "Fr4xGJqVHskK",
    "outputId": "56080d52-af1e-4f71-8f69-00a54db25970"
   },
   "outputs": [
    {
     "data": {
      "text/html": [],
      "text/plain": [
       "<IPython.core.display.HTML object>"
      ]
     },
     "metadata": {},
     "output_type": "display_data"
    },
    {
     "data": {
      "text/html": [
       "<style type=\"text/css\">\n",
       "#T_d0ae0_row10_col0, #T_d0ae0_row10_col1, #T_d0ae0_row10_col2, #T_d0ae0_row10_col3, #T_d0ae0_row10_col4, #T_d0ae0_row10_col5 {\n",
       "  background: yellow;\n",
       "}\n",
       "</style>\n",
       "<table id=\"T_d0ae0\" class=\"dataframe\">\n",
       "  <thead>\n",
       "    <tr>\n",
       "      <th class=\"blank level0\" >&nbsp;</th>\n",
       "      <th id=\"T_d0ae0_level0_col0\" class=\"col_heading level0 col0\" >MAE</th>\n",
       "      <th id=\"T_d0ae0_level0_col1\" class=\"col_heading level0 col1\" >MSE</th>\n",
       "      <th id=\"T_d0ae0_level0_col2\" class=\"col_heading level0 col2\" >RMSE</th>\n",
       "      <th id=\"T_d0ae0_level0_col3\" class=\"col_heading level0 col3\" >R2</th>\n",
       "      <th id=\"T_d0ae0_level0_col4\" class=\"col_heading level0 col4\" >RMSLE</th>\n",
       "      <th id=\"T_d0ae0_level0_col5\" class=\"col_heading level0 col5\" >MAPE</th>\n",
       "    </tr>\n",
       "    <tr>\n",
       "      <th class=\"index_name level0\" >Fold</th>\n",
       "      <th class=\"blank col0\" >&nbsp;</th>\n",
       "      <th class=\"blank col1\" >&nbsp;</th>\n",
       "      <th class=\"blank col2\" >&nbsp;</th>\n",
       "      <th class=\"blank col3\" >&nbsp;</th>\n",
       "      <th class=\"blank col4\" >&nbsp;</th>\n",
       "      <th class=\"blank col5\" >&nbsp;</th>\n",
       "    </tr>\n",
       "  </thead>\n",
       "  <tbody>\n",
       "    <tr>\n",
       "      <th id=\"T_d0ae0_level0_row0\" class=\"row_heading level0 row0\" >0</th>\n",
       "      <td id=\"T_d0ae0_row0_col0\" class=\"data row0 col0\" >4724.2289</td>\n",
       "      <td id=\"T_d0ae0_row0_col1\" class=\"data row0 col1\" >39965225.6643</td>\n",
       "      <td id=\"T_d0ae0_row0_col2\" class=\"data row0 col2\" >6321.8056</td>\n",
       "      <td id=\"T_d0ae0_row0_col3\" class=\"data row0 col3\" >-0.9356</td>\n",
       "      <td id=\"T_d0ae0_row0_col4\" class=\"data row0 col4\" >0.2527</td>\n",
       "      <td id=\"T_d0ae0_row0_col5\" class=\"data row0 col5\" >0.2223</td>\n",
       "    </tr>\n",
       "    <tr>\n",
       "      <th id=\"T_d0ae0_level0_row1\" class=\"row_heading level0 row1\" >1</th>\n",
       "      <td id=\"T_d0ae0_row1_col0\" class=\"data row1 col0\" >1945.1995</td>\n",
       "      <td id=\"T_d0ae0_row1_col1\" class=\"data row1 col1\" >5786520.5135</td>\n",
       "      <td id=\"T_d0ae0_row1_col2\" class=\"data row1 col2\" >2405.5188</td>\n",
       "      <td id=\"T_d0ae0_row1_col3\" class=\"data row1 col3\" >-8.7959</td>\n",
       "      <td id=\"T_d0ae0_row1_col4\" class=\"data row1 col4\" >0.1167</td>\n",
       "      <td id=\"T_d0ae0_row1_col5\" class=\"data row1 col5\" >0.0960</td>\n",
       "    </tr>\n",
       "    <tr>\n",
       "      <th id=\"T_d0ae0_level0_row2\" class=\"row_heading level0 row2\" >2</th>\n",
       "      <td id=\"T_d0ae0_row2_col0\" class=\"data row2 col0\" >2130.3486</td>\n",
       "      <td id=\"T_d0ae0_row2_col1\" class=\"data row2 col1\" >5389658.4378</td>\n",
       "      <td id=\"T_d0ae0_row2_col2\" class=\"data row2 col2\" >2321.5638</td>\n",
       "      <td id=\"T_d0ae0_row2_col3\" class=\"data row2 col3\" >-7.6127</td>\n",
       "      <td id=\"T_d0ae0_row2_col4\" class=\"data row2 col4\" >0.1061</td>\n",
       "      <td id=\"T_d0ae0_row2_col5\" class=\"data row2 col5\" >0.0920</td>\n",
       "    </tr>\n",
       "    <tr>\n",
       "      <th id=\"T_d0ae0_level0_row3\" class=\"row_heading level0 row3\" >3</th>\n",
       "      <td id=\"T_d0ae0_row3_col0\" class=\"data row3 col0\" >1860.7973</td>\n",
       "      <td id=\"T_d0ae0_row3_col1\" class=\"data row3 col1\" >5233550.9889</td>\n",
       "      <td id=\"T_d0ae0_row3_col2\" class=\"data row3 col2\" >2287.6956</td>\n",
       "      <td id=\"T_d0ae0_row3_col3\" class=\"data row3 col3\" >-0.8482</td>\n",
       "      <td id=\"T_d0ae0_row3_col4\" class=\"data row3 col4\" >0.1040</td>\n",
       "      <td id=\"T_d0ae0_row3_col5\" class=\"data row3 col5\" >0.0892</td>\n",
       "    </tr>\n",
       "    <tr>\n",
       "      <th id=\"T_d0ae0_level0_row4\" class=\"row_heading level0 row4\" >4</th>\n",
       "      <td id=\"T_d0ae0_row4_col0\" class=\"data row4 col0\" >3033.9359</td>\n",
       "      <td id=\"T_d0ae0_row4_col1\" class=\"data row4 col1\" >10129593.7383</td>\n",
       "      <td id=\"T_d0ae0_row4_col2\" class=\"data row4 col2\" >3182.7023</td>\n",
       "      <td id=\"T_d0ae0_row4_col3\" class=\"data row4 col3\" >-9.9530</td>\n",
       "      <td id=\"T_d0ae0_row4_col4\" class=\"data row4 col4\" >0.1501</td>\n",
       "      <td id=\"T_d0ae0_row4_col5\" class=\"data row4 col5\" >0.1545</td>\n",
       "    </tr>\n",
       "    <tr>\n",
       "      <th id=\"T_d0ae0_level0_row5\" class=\"row_heading level0 row5\" >5</th>\n",
       "      <td id=\"T_d0ae0_row5_col0\" class=\"data row5 col0\" >3403.5338</td>\n",
       "      <td id=\"T_d0ae0_row5_col1\" class=\"data row5 col1\" >11721471.2576</td>\n",
       "      <td id=\"T_d0ae0_row5_col2\" class=\"data row5 col2\" >3423.6634</td>\n",
       "      <td id=\"T_d0ae0_row5_col3\" class=\"data row5 col3\" >-84.2912</td>\n",
       "      <td id=\"T_d0ae0_row5_col4\" class=\"data row5 col4\" >0.1631</td>\n",
       "      <td id=\"T_d0ae0_row5_col5\" class=\"data row5 col5\" >0.1760</td>\n",
       "    </tr>\n",
       "    <tr>\n",
       "      <th id=\"T_d0ae0_level0_row6\" class=\"row_heading level0 row6\" >6</th>\n",
       "      <td id=\"T_d0ae0_row6_col0\" class=\"data row6 col0\" >2273.2351</td>\n",
       "      <td id=\"T_d0ae0_row6_col1\" class=\"data row6 col1\" >5740896.0003</td>\n",
       "      <td id=\"T_d0ae0_row6_col2\" class=\"data row6 col2\" >2396.0167</td>\n",
       "      <td id=\"T_d0ae0_row6_col3\" class=\"data row6 col3\" >-9.0138</td>\n",
       "      <td id=\"T_d0ae0_row6_col4\" class=\"data row6 col4\" >0.1145</td>\n",
       "      <td id=\"T_d0ae0_row6_col5\" class=\"data row6 col5\" >0.1149</td>\n",
       "    </tr>\n",
       "    <tr>\n",
       "      <th id=\"T_d0ae0_level0_row7\" class=\"row_heading level0 row7\" >7</th>\n",
       "      <td id=\"T_d0ae0_row7_col0\" class=\"data row7 col0\" >5197.3949</td>\n",
       "      <td id=\"T_d0ae0_row7_col1\" class=\"data row7 col1\" >27165170.5461</td>\n",
       "      <td id=\"T_d0ae0_row7_col2\" class=\"data row7 col2\" >5212.0217</td>\n",
       "      <td id=\"T_d0ae0_row7_col3\" class=\"data row7 col3\" >-177.4163</td>\n",
       "      <td id=\"T_d0ae0_row7_col4\" class=\"data row7 col4\" >0.2740</td>\n",
       "      <td id=\"T_d0ae0_row7_col5\" class=\"data row7 col5\" >0.3143</td>\n",
       "    </tr>\n",
       "    <tr>\n",
       "      <th id=\"T_d0ae0_level0_row8\" class=\"row_heading level0 row8\" >8</th>\n",
       "      <td id=\"T_d0ae0_row8_col0\" class=\"data row8 col0\" >3578.7193</td>\n",
       "      <td id=\"T_d0ae0_row8_col1\" class=\"data row8 col1\" >12906032.0456</td>\n",
       "      <td id=\"T_d0ae0_row8_col2\" class=\"data row8 col2\" >3592.4966</td>\n",
       "      <td id=\"T_d0ae0_row8_col3\" class=\"data row8 col3\" >-129.6279</td>\n",
       "      <td id=\"T_d0ae0_row8_col4\" class=\"data row8 col4\" >0.1919</td>\n",
       "      <td id=\"T_d0ae0_row8_col5\" class=\"data row8 col5\" >0.2107</td>\n",
       "    </tr>\n",
       "    <tr>\n",
       "      <th id=\"T_d0ae0_level0_row9\" class=\"row_heading level0 row9\" >9</th>\n",
       "      <td id=\"T_d0ae0_row9_col0\" class=\"data row9 col0\" >2902.9185</td>\n",
       "      <td id=\"T_d0ae0_row9_col1\" class=\"data row9 col1\" >9818277.3852</td>\n",
       "      <td id=\"T_d0ae0_row9_col2\" class=\"data row9 col2\" >3133.4131</td>\n",
       "      <td id=\"T_d0ae0_row9_col3\" class=\"data row9 col3\" >-3.2406</td>\n",
       "      <td id=\"T_d0ae0_row9_col4\" class=\"data row9 col4\" >0.1688</td>\n",
       "      <td id=\"T_d0ae0_row9_col5\" class=\"data row9 col5\" >0.1708</td>\n",
       "    </tr>\n",
       "    <tr>\n",
       "      <th id=\"T_d0ae0_level0_row10\" class=\"row_heading level0 row10\" >Mean</th>\n",
       "      <td id=\"T_d0ae0_row10_col0\" class=\"data row10 col0\" >3105.0312</td>\n",
       "      <td id=\"T_d0ae0_row10_col1\" class=\"data row10 col1\" >13385639.6578</td>\n",
       "      <td id=\"T_d0ae0_row10_col2\" class=\"data row10 col2\" >3427.6897</td>\n",
       "      <td id=\"T_d0ae0_row10_col3\" class=\"data row10 col3\" >-43.1735</td>\n",
       "      <td id=\"T_d0ae0_row10_col4\" class=\"data row10 col4\" >0.1642</td>\n",
       "      <td id=\"T_d0ae0_row10_col5\" class=\"data row10 col5\" >0.1641</td>\n",
       "    </tr>\n",
       "    <tr>\n",
       "      <th id=\"T_d0ae0_level0_row11\" class=\"row_heading level0 row11\" >Std</th>\n",
       "      <td id=\"T_d0ae0_row11_col0\" class=\"data row11 col0\" >1090.6142</td>\n",
       "      <td id=\"T_d0ae0_row11_col1\" class=\"data row11 col1\" >10813224.4729</td>\n",
       "      <td id=\"T_d0ae0_row11_col2\" class=\"data row11 col2\" >1279.2899</td>\n",
       "      <td id=\"T_d0ae0_row11_col3\" class=\"data row11 col3\" >60.8877</td>\n",
       "      <td id=\"T_d0ae0_row11_col4\" class=\"data row11 col4\" >0.0571</td>\n",
       "      <td id=\"T_d0ae0_row11_col5\" class=\"data row11 col5\" >0.0680</td>\n",
       "    </tr>\n",
       "  </tbody>\n",
       "</table>\n"
      ],
      "text/plain": [
       "<pandas.io.formats.style.Styler at 0x7fafe6cf0df0>"
      ]
     },
     "metadata": {},
     "output_type": "display_data"
    },
    {
     "data": {
      "application/vnd.jupyter.widget-view+json": {
       "model_id": "1994ead5c59e4f6293e9cec074a04a24",
       "version_major": 2,
       "version_minor": 0
      },
      "text/plain": [
       "Processing:   0%|          | 0/7 [00:00<?, ?it/s]"
      ]
     },
     "metadata": {
      "application/vnd.jupyter.widget-view+json": {
       "colab": {
        "custom_widget_manager": {
         "url": "https://ssl.gstatic.com/colaboratory-static/widgets/colab-cdn-widget-manager/b3e629b1971e1542/manager.min.js"
        }
       }
      }
     },
     "output_type": "display_data"
    },
    {
     "name": "stdout",
     "output_type": "stream",
     "text": [
      "Fitting 10 folds for each of 10 candidates, totalling 100 fits\n"
     ]
    },
    {
     "data": {
      "text/html": [],
      "text/plain": [
       "<IPython.core.display.HTML object>"
      ]
     },
     "metadata": {},
     "output_type": "display_data"
    },
    {
     "name": "stdout",
     "output_type": "stream",
     "text": [
      "Original model was better than the tuned model, hence it will be returned. NOTE: The display metrics are for the tuned model (not the original one).\n"
     ]
    }
   ],
   "source": [
    "tuned_best_model = tune_model(best_model)"
   ]
  },
  {
   "cell_type": "markdown",
   "metadata": {
    "id": "rcEaHRN_Pu-8"
   },
   "source": [
    "### Performance"
   ]
  },
  {
   "cell_type": "code",
   "execution_count": null,
   "metadata": {
    "id": "Hn-yNKDFLcoH"
   },
   "outputs": [],
   "source": [
    "evaluate_model(best_model)"
   ]
  },
  {
   "cell_type": "markdown",
   "metadata": {
    "id": "Rr8nb9Ps0BUR"
   },
   "source": [
    "### Finalize model"
   ]
  },
  {
   "cell_type": "code",
   "execution_count": null,
   "metadata": {
    "id": "WbE6_rNRXBoP"
   },
   "outputs": [],
   "source": [
    "final_best_model = finalize_model(best_model)"
   ]
  },
  {
   "cell_type": "markdown",
   "metadata": {
    "id": "ouZf_L_d0BUS"
   },
   "source": [
    "____"
   ]
  },
  {
   "cell_type": "markdown",
   "metadata": {
    "id": "qfBNoaeHPfi3"
   },
   "source": [
    "## Test data"
   ]
  },
  {
   "cell_type": "code",
   "execution_count": null,
   "metadata": {
    "colab": {
     "base_uri": "https://localhost:8080/",
     "height": 81
    },
    "id": "8Jfc18m4HskL",
    "outputId": "81b6d997-de88-4fff-8152-f785b6d29d92"
   },
   "outputs": [
    {
     "data": {
      "text/html": [
       "<style type=\"text/css\">\n",
       "</style>\n",
       "<table id=\"T_f6b04\" class=\"dataframe\">\n",
       "  <thead>\n",
       "    <tr>\n",
       "      <th class=\"blank level0\" >&nbsp;</th>\n",
       "      <th id=\"T_f6b04_level0_col0\" class=\"col_heading level0 col0\" >Model</th>\n",
       "      <th id=\"T_f6b04_level0_col1\" class=\"col_heading level0 col1\" >MAE</th>\n",
       "      <th id=\"T_f6b04_level0_col2\" class=\"col_heading level0 col2\" >MSE</th>\n",
       "      <th id=\"T_f6b04_level0_col3\" class=\"col_heading level0 col3\" >RMSE</th>\n",
       "      <th id=\"T_f6b04_level0_col4\" class=\"col_heading level0 col4\" >R2</th>\n",
       "      <th id=\"T_f6b04_level0_col5\" class=\"col_heading level0 col5\" >RMSLE</th>\n",
       "      <th id=\"T_f6b04_level0_col6\" class=\"col_heading level0 col6\" >MAPE</th>\n",
       "    </tr>\n",
       "  </thead>\n",
       "  <tbody>\n",
       "    <tr>\n",
       "      <th id=\"T_f6b04_level0_row0\" class=\"row_heading level0 row0\" >0</th>\n",
       "      <td id=\"T_f6b04_row0_col0\" class=\"data row0 col0\" >Gradient Boosting Regressor</td>\n",
       "      <td id=\"T_f6b04_row0_col1\" class=\"data row0 col1\" >20485.6942</td>\n",
       "      <td id=\"T_f6b04_row0_col2\" class=\"data row0 col2\" >419744993.3636</td>\n",
       "      <td id=\"T_f6b04_row0_col3\" class=\"data row0 col3\" >20487.6791</td>\n",
       "      <td id=\"T_f6b04_row0_col4\" class=\"data row0 col4\" >-1052413016880658120704.0000</td>\n",
       "      <td id=\"T_f6b04_row0_col5\" class=\"data row0 col5\" >9.3207</td>\n",
       "      <td id=\"T_f6b04_row0_col6\" class=\"data row0 col6\" >24547.9040</td>\n",
       "    </tr>\n",
       "  </tbody>\n",
       "</table>\n"
      ],
      "text/plain": [
       "<pandas.io.formats.style.Styler at 0x7fafe7521c90>"
      ]
     },
     "metadata": {},
     "output_type": "display_data"
    }
   ],
   "source": [
    "predictions = predict_model(best_model, data = test)"
   ]
  },
  {
   "cell_type": "code",
   "execution_count": null,
   "metadata": {
    "colab": {
     "base_uri": "https://localhost:8080/",
     "height": 423
    },
    "id": "UQGsjC2W0g5O",
    "outputId": "e4045b31-d6c4-4036-e5ac-b4746306271d"
   },
   "outputs": [
    {
     "data": {
      "text/html": [
       "\n",
       "  <div id=\"df-dad2971d-0299-41a9-b83f-63f85946fa56\">\n",
       "    <div class=\"colab-df-container\">\n",
       "      <div>\n",
       "<style scoped>\n",
       "    .dataframe tbody tr th:only-of-type {\n",
       "        vertical-align: middle;\n",
       "    }\n",
       "\n",
       "    .dataframe tbody tr th {\n",
       "        vertical-align: top;\n",
       "    }\n",
       "\n",
       "    .dataframe thead th {\n",
       "        text-align: right;\n",
       "    }\n",
       "</style>\n",
       "<table border=\"1\" class=\"dataframe\">\n",
       "  <thead>\n",
       "    <tr style=\"text-align: right;\">\n",
       "      <th></th>\n",
       "      <th>date</th>\n",
       "      <th>day</th>\n",
       "      <th>month</th>\n",
       "      <th>year</th>\n",
       "      <th>series</th>\n",
       "      <th>price</th>\n",
       "      <th>prediction_label</th>\n",
       "    </tr>\n",
       "  </thead>\n",
       "  <tbody>\n",
       "    <tr>\n",
       "      <th>256</th>\n",
       "      <td>2023-01-18</td>\n",
       "      <td>18</td>\n",
       "      <td>1</td>\n",
       "      <td>2023</td>\n",
       "      <td>257</td>\n",
       "      <td>21145.179688</td>\n",
       "      <td>20894.516749</td>\n",
       "    </tr>\n",
       "    <tr>\n",
       "      <th>257</th>\n",
       "      <td>2023-01-19</td>\n",
       "      <td>19</td>\n",
       "      <td>1</td>\n",
       "      <td>2023</td>\n",
       "      <td>258</td>\n",
       "      <td>20672.779297</td>\n",
       "      <td>20213.282615</td>\n",
       "    </tr>\n",
       "    <tr>\n",
       "      <th>258</th>\n",
       "      <td>2023-01-20</td>\n",
       "      <td>20</td>\n",
       "      <td>1</td>\n",
       "      <td>2023</td>\n",
       "      <td>259</td>\n",
       "      <td>21087.759766</td>\n",
       "      <td>20128.466998</td>\n",
       "    </tr>\n",
       "    <tr>\n",
       "      <th>259</th>\n",
       "      <td>2023-01-21</td>\n",
       "      <td>21</td>\n",
       "      <td>1</td>\n",
       "      <td>2023</td>\n",
       "      <td>260</td>\n",
       "      <td>22693.449219</td>\n",
       "      <td>20128.466998</td>\n",
       "    </tr>\n",
       "    <tr>\n",
       "      <th>260</th>\n",
       "      <td>2023-01-22</td>\n",
       "      <td>22</td>\n",
       "      <td>1</td>\n",
       "      <td>2023</td>\n",
       "      <td>261</td>\n",
       "      <td>22772.500000</td>\n",
       "      <td>20128.466998</td>\n",
       "    </tr>\n",
       "    <tr>\n",
       "      <th>...</th>\n",
       "      <td>...</td>\n",
       "      <td>...</td>\n",
       "      <td>...</td>\n",
       "      <td>...</td>\n",
       "      <td>...</td>\n",
       "      <td>...</td>\n",
       "      <td>...</td>\n",
       "    </tr>\n",
       "    <tr>\n",
       "      <th>361</th>\n",
       "      <td>2023-05-03</td>\n",
       "      <td>3</td>\n",
       "      <td>5</td>\n",
       "      <td>2023</td>\n",
       "      <td>362</td>\n",
       "      <td>28678.289062</td>\n",
       "      <td>20365.698497</td>\n",
       "    </tr>\n",
       "    <tr>\n",
       "      <th>362</th>\n",
       "      <td>2023-05-04</td>\n",
       "      <td>4</td>\n",
       "      <td>5</td>\n",
       "      <td>2023</td>\n",
       "      <td>363</td>\n",
       "      <td>29007.660156</td>\n",
       "      <td>20365.698497</td>\n",
       "    </tr>\n",
       "    <tr>\n",
       "      <th>363</th>\n",
       "      <td>2023-05-05</td>\n",
       "      <td>5</td>\n",
       "      <td>5</td>\n",
       "      <td>2023</td>\n",
       "      <td>364</td>\n",
       "      <td>28851.839844</td>\n",
       "      <td>20765.575337</td>\n",
       "    </tr>\n",
       "    <tr>\n",
       "      <th>364</th>\n",
       "      <td>2023-05-06</td>\n",
       "      <td>6</td>\n",
       "      <td>5</td>\n",
       "      <td>2023</td>\n",
       "      <td>365</td>\n",
       "      <td>29535.380859</td>\n",
       "      <td>20765.575337</td>\n",
       "    </tr>\n",
       "    <tr>\n",
       "      <th>365</th>\n",
       "      <td>2023-05-07</td>\n",
       "      <td>7</td>\n",
       "      <td>5</td>\n",
       "      <td>2023</td>\n",
       "      <td>366</td>\n",
       "      <td>28903.410156</td>\n",
       "      <td>20748.735524</td>\n",
       "    </tr>\n",
       "  </tbody>\n",
       "</table>\n",
       "<p>110 rows × 7 columns</p>\n",
       "</div>\n",
       "      <button class=\"colab-df-convert\" onclick=\"convertToInteractive('df-dad2971d-0299-41a9-b83f-63f85946fa56')\"\n",
       "              title=\"Convert this dataframe to an interactive table.\"\n",
       "              style=\"display:none;\">\n",
       "        \n",
       "  <svg xmlns=\"http://www.w3.org/2000/svg\" height=\"24px\"viewBox=\"0 0 24 24\"\n",
       "       width=\"24px\">\n",
       "    <path d=\"M0 0h24v24H0V0z\" fill=\"none\"/>\n",
       "    <path d=\"M18.56 5.44l.94 2.06.94-2.06 2.06-.94-2.06-.94-.94-2.06-.94 2.06-2.06.94zm-11 1L8.5 8.5l.94-2.06 2.06-.94-2.06-.94L8.5 2.5l-.94 2.06-2.06.94zm10 10l.94 2.06.94-2.06 2.06-.94-2.06-.94-.94-2.06-.94 2.06-2.06.94z\"/><path d=\"M17.41 7.96l-1.37-1.37c-.4-.4-.92-.59-1.43-.59-.52 0-1.04.2-1.43.59L10.3 9.45l-7.72 7.72c-.78.78-.78 2.05 0 2.83L4 21.41c.39.39.9.59 1.41.59.51 0 1.02-.2 1.41-.59l7.78-7.78 2.81-2.81c.8-.78.8-2.07 0-2.86zM5.41 20L4 18.59l7.72-7.72 1.47 1.35L5.41 20z\"/>\n",
       "  </svg>\n",
       "      </button>\n",
       "      \n",
       "  <style>\n",
       "    .colab-df-container {\n",
       "      display:flex;\n",
       "      flex-wrap:wrap;\n",
       "      gap: 12px;\n",
       "    }\n",
       "\n",
       "    .colab-df-convert {\n",
       "      background-color: #E8F0FE;\n",
       "      border: none;\n",
       "      border-radius: 50%;\n",
       "      cursor: pointer;\n",
       "      display: none;\n",
       "      fill: #1967D2;\n",
       "      height: 32px;\n",
       "      padding: 0 0 0 0;\n",
       "      width: 32px;\n",
       "    }\n",
       "\n",
       "    .colab-df-convert:hover {\n",
       "      background-color: #E2EBFA;\n",
       "      box-shadow: 0px 1px 2px rgba(60, 64, 67, 0.3), 0px 1px 3px 1px rgba(60, 64, 67, 0.15);\n",
       "      fill: #174EA6;\n",
       "    }\n",
       "\n",
       "    [theme=dark] .colab-df-convert {\n",
       "      background-color: #3B4455;\n",
       "      fill: #D2E3FC;\n",
       "    }\n",
       "\n",
       "    [theme=dark] .colab-df-convert:hover {\n",
       "      background-color: #434B5C;\n",
       "      box-shadow: 0px 1px 3px 1px rgba(0, 0, 0, 0.15);\n",
       "      filter: drop-shadow(0px 1px 2px rgba(0, 0, 0, 0.3));\n",
       "      fill: #FFFFFF;\n",
       "    }\n",
       "  </style>\n",
       "\n",
       "      <script>\n",
       "        const buttonEl =\n",
       "          document.querySelector('#df-dad2971d-0299-41a9-b83f-63f85946fa56 button.colab-df-convert');\n",
       "        buttonEl.style.display =\n",
       "          google.colab.kernel.accessAllowed ? 'block' : 'none';\n",
       "\n",
       "        async function convertToInteractive(key) {\n",
       "          const element = document.querySelector('#df-dad2971d-0299-41a9-b83f-63f85946fa56');\n",
       "          const dataTable =\n",
       "            await google.colab.kernel.invokeFunction('convertToInteractive',\n",
       "                                                     [key], {});\n",
       "          if (!dataTable) return;\n",
       "\n",
       "          const docLinkHtml = 'Like what you see? Visit the ' +\n",
       "            '<a target=\"_blank\" href=https://colab.research.google.com/notebooks/data_table.ipynb>data table notebook</a>'\n",
       "            + ' to learn more about interactive tables.';\n",
       "          element.innerHTML = '';\n",
       "          dataTable['output_type'] = 'display_data';\n",
       "          await google.colab.output.renderOutput(dataTable, element);\n",
       "          const docLink = document.createElement('div');\n",
       "          docLink.innerHTML = docLinkHtml;\n",
       "          element.appendChild(docLink);\n",
       "        }\n",
       "      </script>\n",
       "    </div>\n",
       "  </div>\n",
       "  "
      ],
      "text/plain": [
       "          date  day  month  year  series         price  prediction_label\n",
       "256 2023-01-18   18      1  2023     257  21145.179688      20894.516749\n",
       "257 2023-01-19   19      1  2023     258  20672.779297      20213.282615\n",
       "258 2023-01-20   20      1  2023     259  21087.759766      20128.466998\n",
       "259 2023-01-21   21      1  2023     260  22693.449219      20128.466998\n",
       "260 2023-01-22   22      1  2023     261  22772.500000      20128.466998\n",
       "..         ...  ...    ...   ...     ...           ...               ...\n",
       "361 2023-05-03    3      5  2023     362  28678.289062      20365.698497\n",
       "362 2023-05-04    4      5  2023     363  29007.660156      20365.698497\n",
       "363 2023-05-05    5      5  2023     364  28851.839844      20765.575337\n",
       "364 2023-05-06    6      5  2023     365  29535.380859      20765.575337\n",
       "365 2023-05-07    7      5  2023     366  28903.410156      20748.735524\n",
       "\n",
       "[110 rows x 7 columns]"
      ]
     },
     "execution_count": 251,
     "metadata": {},
     "output_type": "execute_result"
    }
   ],
   "source": [
    "predictions"
   ]
  },
  {
   "cell_type": "code",
   "execution_count": null,
   "metadata": {
    "colab": {
     "base_uri": "https://localhost:8080/",
     "height": 542
    },
    "id": "kl1gPVvtwrzb",
    "outputId": "8805922f-114b-42fa-9dee-b0a30621d348",
    "scrolled": true
   },
   "outputs": [
    {
     "data": {
      "text/html": [
       "<html>\n",
       "<head><meta charset=\"utf-8\" /></head>\n",
       "<body>\n",
       "    <div>            <script src=\"https://cdnjs.cloudflare.com/ajax/libs/mathjax/2.7.5/MathJax.js?config=TeX-AMS-MML_SVG\"></script><script type=\"text/javascript\">if (window.MathJax && window.MathJax.Hub && window.MathJax.Hub.Config) {window.MathJax.Hub.Config({SVG: {font: \"STIX-Web\"}});}</script>                <script type=\"text/javascript\">window.PlotlyConfig = {MathJaxConfig: 'local'};</script>\n",
       "        <script src=\"https://cdn.plot.ly/plotly-2.18.2.min.js\"></script>                <div id=\"248df754-41e0-46d4-baf9-8d35ef9e0958\" class=\"plotly-graph-div\" style=\"height:525px; width:100%;\"></div>            <script type=\"text/javascript\">                                    window.PLOTLYENV=window.PLOTLYENV || {};                                    if (document.getElementById(\"248df754-41e0-46d4-baf9-8d35ef9e0958\")) {                    Plotly.newPlot(                        \"248df754-41e0-46d4-baf9-8d35ef9e0958\",                        [{\"hovertemplate\":\"variable=price<br>date=%{x}<br>value=%{y}<extra></extra>\",\"legendgroup\":\"price\",\"line\":{\"color\":\"#636efa\",\"dash\":\"solid\"},\"marker\":{\"symbol\":\"circle\"},\"mode\":\"lines\",\"name\":\"price\",\"orientation\":\"v\",\"showlegend\":true,\"x\":[\"2023-01-18T00:00:00\",\"2023-01-19T00:00:00\",\"2023-01-20T00:00:00\",\"2023-01-21T00:00:00\",\"2023-01-22T00:00:00\",\"2023-01-23T00:00:00\",\"2023-01-24T00:00:00\",\"2023-01-25T00:00:00\",\"2023-01-26T00:00:00\",\"2023-01-27T00:00:00\",\"2023-01-28T00:00:00\",\"2023-01-29T00:00:00\",\"2023-01-30T00:00:00\",\"2023-01-31T00:00:00\",\"2023-02-01T00:00:00\",\"2023-02-02T00:00:00\",\"2023-02-03T00:00:00\",\"2023-02-04T00:00:00\",\"2023-02-05T00:00:00\",\"2023-02-06T00:00:00\",\"2023-02-07T00:00:00\",\"2023-02-08T00:00:00\",\"2023-02-09T00:00:00\",\"2023-02-10T00:00:00\",\"2023-02-11T00:00:00\",\"2023-02-12T00:00:00\",\"2023-02-13T00:00:00\",\"2023-02-14T00:00:00\",\"2023-02-15T00:00:00\",\"2023-02-16T00:00:00\",\"2023-02-17T00:00:00\",\"2023-02-18T00:00:00\",\"2023-02-19T00:00:00\",\"2023-02-20T00:00:00\",\"2023-02-21T00:00:00\",\"2023-02-22T00:00:00\",\"2023-02-23T00:00:00\",\"2023-02-24T00:00:00\",\"2023-02-25T00:00:00\",\"2023-02-26T00:00:00\",\"2023-02-27T00:00:00\",\"2023-02-28T00:00:00\",\"2023-03-01T00:00:00\",\"2023-03-02T00:00:00\",\"2023-03-03T00:00:00\",\"2023-03-04T00:00:00\",\"2023-03-05T00:00:00\",\"2023-03-06T00:00:00\",\"2023-03-07T00:00:00\",\"2023-03-08T00:00:00\",\"2023-03-09T00:00:00\",\"2023-03-10T00:00:00\",\"2023-03-11T00:00:00\",\"2023-03-12T00:00:00\",\"2023-03-13T00:00:00\",\"2023-03-14T00:00:00\",\"2023-03-15T00:00:00\",\"2023-03-16T00:00:00\",\"2023-03-17T00:00:00\",\"2023-03-18T00:00:00\",\"2023-03-19T00:00:00\",\"2023-03-20T00:00:00\",\"2023-03-21T00:00:00\",\"2023-03-22T00:00:00\",\"2023-03-23T00:00:00\",\"2023-03-24T00:00:00\",\"2023-03-25T00:00:00\",\"2023-03-26T00:00:00\",\"2023-03-27T00:00:00\",\"2023-03-28T00:00:00\",\"2023-03-29T00:00:00\",\"2023-03-30T00:00:00\",\"2023-03-31T00:00:00\",\"2023-04-01T00:00:00\",\"2023-04-02T00:00:00\",\"2023-04-03T00:00:00\",\"2023-04-04T00:00:00\",\"2023-04-05T00:00:00\",\"2023-04-06T00:00:00\",\"2023-04-07T00:00:00\",\"2023-04-08T00:00:00\",\"2023-04-09T00:00:00\",\"2023-04-10T00:00:00\",\"2023-04-11T00:00:00\",\"2023-04-12T00:00:00\",\"2023-04-13T00:00:00\",\"2023-04-14T00:00:00\",\"2023-04-15T00:00:00\",\"2023-04-16T00:00:00\",\"2023-04-17T00:00:00\",\"2023-04-18T00:00:00\",\"2023-04-19T00:00:00\",\"2023-04-20T00:00:00\",\"2023-04-21T00:00:00\",\"2023-04-22T00:00:00\",\"2023-04-23T00:00:00\",\"2023-04-24T00:00:00\",\"2023-04-25T00:00:00\",\"2023-04-26T00:00:00\",\"2023-04-27T00:00:00\",\"2023-04-28T00:00:00\",\"2023-04-29T00:00:00\",\"2023-04-30T00:00:00\",\"2023-05-01T00:00:00\",\"2023-05-02T00:00:00\",\"2023-05-03T00:00:00\",\"2023-05-04T00:00:00\",\"2023-05-05T00:00:00\",\"2023-05-06T00:00:00\",\"2023-05-07T00:00:00\"],\"xaxis\":\"x\",\"y\":[21145.1796875,20672.779296875,21087.759765625,22693.44921875,22772.5,22724.23046875,22924.369140625,22634.470703125,23089.740234375,23008.2890625,23075.810546875,23032.23046875,23755.849609375,22836.08984375,23133.91015625,23722.01953125,23454.41015625,23440.08984375,23328.240234375,22936.94921875,22763.740234375,23254.7890625,22964.869140625,21794.05078125,21638.55078125,21861.83984375,21787.25,21787.990234375,22211.80078125,24340.73046875,23544.669921875,24572.970703125,24641.939453125,24290.1796875,24834.810546875,24438.099609375,24185.669921875,23946.390625,23192.01953125,23176.759765625,23563.109375,23497.619140625,23128.30078125,23641.6796875,23467.359375,22351.720703125,22348.509765625,22427.560546875,22410.619140625,22197.490234375,21698.330078125,20363.359375,20224.849609375,20656.779296875,22205.3203125,24213.740234375,24767.4609375,24376.390625,25053.640625,27462.76953125,26975.390625,28045.83984375,27790.890625,28191.529296875,27306.3203125,28332.419921875,27496.19921875,27496.060546875,27999.83984375,27141.23046875,27274.720703125,28355.919921875,28033.060546875,28479.75,28465.0390625,28185.19921875,27802.23046875,28169.5,28180.400390625,28039.939453125,27925.55078125,27956.009765625,28336.1796875,29656.240234375,30234.98046875,29899.240234375,30407.599609375,30486.05078125,30319.3203125,30315.390625,29447.099609375,30393.640625,28829.5703125,28243.01953125,27267.990234375,27816.1796875,27590.55078125,27516.48046875,28301.7109375,28429.720703125,29480.349609375,29329.630859375,29244.6796875,29264.140625,28086.650390625,28678.2890625,29007.66015625,28851.83984375,29535.380859375,28903.41015625],\"yaxis\":\"y\",\"type\":\"scatter\"},{\"hovertemplate\":\"variable=prediction_label<br>date=%{x}<br>value=%{y}<extra></extra>\",\"legendgroup\":\"prediction_label\",\"line\":{\"color\":\"#EF553B\",\"dash\":\"solid\"},\"marker\":{\"symbol\":\"circle\"},\"mode\":\"lines\",\"name\":\"prediction_label\",\"orientation\":\"v\",\"showlegend\":true,\"x\":[\"2023-01-18T00:00:00\",\"2023-01-19T00:00:00\",\"2023-01-20T00:00:00\",\"2023-01-21T00:00:00\",\"2023-01-22T00:00:00\",\"2023-01-23T00:00:00\",\"2023-01-24T00:00:00\",\"2023-01-25T00:00:00\",\"2023-01-26T00:00:00\",\"2023-01-27T00:00:00\",\"2023-01-28T00:00:00\",\"2023-01-29T00:00:00\",\"2023-01-30T00:00:00\",\"2023-01-31T00:00:00\",\"2023-02-01T00:00:00\",\"2023-02-02T00:00:00\",\"2023-02-03T00:00:00\",\"2023-02-04T00:00:00\",\"2023-02-05T00:00:00\",\"2023-02-06T00:00:00\",\"2023-02-07T00:00:00\",\"2023-02-08T00:00:00\",\"2023-02-09T00:00:00\",\"2023-02-10T00:00:00\",\"2023-02-11T00:00:00\",\"2023-02-12T00:00:00\",\"2023-02-13T00:00:00\",\"2023-02-14T00:00:00\",\"2023-02-15T00:00:00\",\"2023-02-16T00:00:00\",\"2023-02-17T00:00:00\",\"2023-02-18T00:00:00\",\"2023-02-19T00:00:00\",\"2023-02-20T00:00:00\",\"2023-02-21T00:00:00\",\"2023-02-22T00:00:00\",\"2023-02-23T00:00:00\",\"2023-02-24T00:00:00\",\"2023-02-25T00:00:00\",\"2023-02-26T00:00:00\",\"2023-02-27T00:00:00\",\"2023-02-28T00:00:00\",\"2023-03-01T00:00:00\",\"2023-03-02T00:00:00\",\"2023-03-03T00:00:00\",\"2023-03-04T00:00:00\",\"2023-03-05T00:00:00\",\"2023-03-06T00:00:00\",\"2023-03-07T00:00:00\",\"2023-03-08T00:00:00\",\"2023-03-09T00:00:00\",\"2023-03-10T00:00:00\",\"2023-03-11T00:00:00\",\"2023-03-12T00:00:00\",\"2023-03-13T00:00:00\",\"2023-03-14T00:00:00\",\"2023-03-15T00:00:00\",\"2023-03-16T00:00:00\",\"2023-03-17T00:00:00\",\"2023-03-18T00:00:00\",\"2023-03-19T00:00:00\",\"2023-03-20T00:00:00\",\"2023-03-21T00:00:00\",\"2023-03-22T00:00:00\",\"2023-03-23T00:00:00\",\"2023-03-24T00:00:00\",\"2023-03-25T00:00:00\",\"2023-03-26T00:00:00\",\"2023-03-27T00:00:00\",\"2023-03-28T00:00:00\",\"2023-03-29T00:00:00\",\"2023-03-30T00:00:00\",\"2023-03-31T00:00:00\",\"2023-04-01T00:00:00\",\"2023-04-02T00:00:00\",\"2023-04-03T00:00:00\",\"2023-04-04T00:00:00\",\"2023-04-05T00:00:00\",\"2023-04-06T00:00:00\",\"2023-04-07T00:00:00\",\"2023-04-08T00:00:00\",\"2023-04-09T00:00:00\",\"2023-04-10T00:00:00\",\"2023-04-11T00:00:00\",\"2023-04-12T00:00:00\",\"2023-04-13T00:00:00\",\"2023-04-14T00:00:00\",\"2023-04-15T00:00:00\",\"2023-04-16T00:00:00\",\"2023-04-17T00:00:00\",\"2023-04-18T00:00:00\",\"2023-04-19T00:00:00\",\"2023-04-20T00:00:00\",\"2023-04-21T00:00:00\",\"2023-04-22T00:00:00\",\"2023-04-23T00:00:00\",\"2023-04-24T00:00:00\",\"2023-04-25T00:00:00\",\"2023-04-26T00:00:00\",\"2023-04-27T00:00:00\",\"2023-04-28T00:00:00\",\"2023-04-29T00:00:00\",\"2023-04-30T00:00:00\",\"2023-05-01T00:00:00\",\"2023-05-02T00:00:00\",\"2023-05-03T00:00:00\",\"2023-05-04T00:00:00\",\"2023-05-05T00:00:00\",\"2023-05-06T00:00:00\",\"2023-05-07T00:00:00\"],\"xaxis\":\"x\",\"y\":[20894.51674867848,20213.282615334334,20128.466998304626,20128.466998304626,20128.466998304626,20227.233994428265,20255.829358751653,20255.829358751653,20255.829358751653,20255.829358751653,20241.086876245045,20241.086876245045,20284.988779340736,20284.988779340736,20304.79851713051,20365.69849674059,20365.69849674059,20365.69849674059,20765.575336696766,20765.575336696766,20748.735523868847,20748.735523868847,20802.032268532865,20802.032268532865,20802.032268532865,20813.550898940004,20813.550898940004,20813.550898940004,20853.019549725243,20818.42172832623,20967.56827924471,20894.51674867848,20213.282615334334,20128.466998304626,20128.466998304626,20128.466998304626,20227.233994428265,20255.829358751653,20255.829358751653,20255.829358751653,20255.829358751653,20241.086876245045,20304.79851713051,20365.69849674059,20365.69849674059,20365.69849674059,20765.575336696766,20765.575336696766,20748.735523868847,20748.735523868847,20802.032268532865,20802.032268532865,20802.032268532865,20813.550898940004,20813.550898940004,20813.550898940004,20853.019549725243,20818.42172832623,20967.56827924471,20894.51674867848,20213.282615334334,20128.466998304626,20128.466998304626,20128.466998304626,20227.233994428265,20255.829358751653,20255.829358751653,20255.829358751653,20255.829358751653,20241.086876245045,20241.086876245045,20284.988779340736,20284.988779340736,20304.79851713051,20365.69849674059,20365.69849674059,20365.69849674059,20765.575336696766,20765.575336696766,20748.735523868847,20748.735523868847,20802.032268532865,20802.032268532865,20802.032268532865,20813.550898940004,20813.550898940004,20813.550898940004,20853.019549725243,20818.42172832623,20967.56827924471,20894.51674867848,20213.282615334334,20128.466998304626,20128.466998304626,20128.466998304626,20227.233994428265,20255.829358751653,20255.829358751653,20255.829358751653,20255.829358751653,20241.086876245045,20241.086876245045,20284.988779340736,20304.79851713051,20365.69849674059,20365.69849674059,20365.69849674059,20765.575336696766,20765.575336696766,20748.735523868847],\"yaxis\":\"y\",\"type\":\"scatter\"}],                        {\"template\":{\"data\":{\"barpolar\":[{\"marker\":{\"line\":{\"color\":\"rgb(17,17,17)\",\"width\":0.5},\"pattern\":{\"fillmode\":\"overlay\",\"size\":10,\"solidity\":0.2}},\"type\":\"barpolar\"}],\"bar\":[{\"error_x\":{\"color\":\"#f2f5fa\"},\"error_y\":{\"color\":\"#f2f5fa\"},\"marker\":{\"line\":{\"color\":\"rgb(17,17,17)\",\"width\":0.5},\"pattern\":{\"fillmode\":\"overlay\",\"size\":10,\"solidity\":0.2}},\"type\":\"bar\"}],\"carpet\":[{\"aaxis\":{\"endlinecolor\":\"#A2B1C6\",\"gridcolor\":\"#506784\",\"linecolor\":\"#506784\",\"minorgridcolor\":\"#506784\",\"startlinecolor\":\"#A2B1C6\"},\"baxis\":{\"endlinecolor\":\"#A2B1C6\",\"gridcolor\":\"#506784\",\"linecolor\":\"#506784\",\"minorgridcolor\":\"#506784\",\"startlinecolor\":\"#A2B1C6\"},\"type\":\"carpet\"}],\"choropleth\":[{\"colorbar\":{\"outlinewidth\":0,\"ticks\":\"\"},\"type\":\"choropleth\"}],\"contourcarpet\":[{\"colorbar\":{\"outlinewidth\":0,\"ticks\":\"\"},\"type\":\"contourcarpet\"}],\"contour\":[{\"colorbar\":{\"outlinewidth\":0,\"ticks\":\"\"},\"colorscale\":[[0.0,\"#0d0887\"],[0.1111111111111111,\"#46039f\"],[0.2222222222222222,\"#7201a8\"],[0.3333333333333333,\"#9c179e\"],[0.4444444444444444,\"#bd3786\"],[0.5555555555555556,\"#d8576b\"],[0.6666666666666666,\"#ed7953\"],[0.7777777777777778,\"#fb9f3a\"],[0.8888888888888888,\"#fdca26\"],[1.0,\"#f0f921\"]],\"type\":\"contour\"}],\"heatmapgl\":[{\"colorbar\":{\"outlinewidth\":0,\"ticks\":\"\"},\"colorscale\":[[0.0,\"#0d0887\"],[0.1111111111111111,\"#46039f\"],[0.2222222222222222,\"#7201a8\"],[0.3333333333333333,\"#9c179e\"],[0.4444444444444444,\"#bd3786\"],[0.5555555555555556,\"#d8576b\"],[0.6666666666666666,\"#ed7953\"],[0.7777777777777778,\"#fb9f3a\"],[0.8888888888888888,\"#fdca26\"],[1.0,\"#f0f921\"]],\"type\":\"heatmapgl\"}],\"heatmap\":[{\"colorbar\":{\"outlinewidth\":0,\"ticks\":\"\"},\"colorscale\":[[0.0,\"#0d0887\"],[0.1111111111111111,\"#46039f\"],[0.2222222222222222,\"#7201a8\"],[0.3333333333333333,\"#9c179e\"],[0.4444444444444444,\"#bd3786\"],[0.5555555555555556,\"#d8576b\"],[0.6666666666666666,\"#ed7953\"],[0.7777777777777778,\"#fb9f3a\"],[0.8888888888888888,\"#fdca26\"],[1.0,\"#f0f921\"]],\"type\":\"heatmap\"}],\"histogram2dcontour\":[{\"colorbar\":{\"outlinewidth\":0,\"ticks\":\"\"},\"colorscale\":[[0.0,\"#0d0887\"],[0.1111111111111111,\"#46039f\"],[0.2222222222222222,\"#7201a8\"],[0.3333333333333333,\"#9c179e\"],[0.4444444444444444,\"#bd3786\"],[0.5555555555555556,\"#d8576b\"],[0.6666666666666666,\"#ed7953\"],[0.7777777777777778,\"#fb9f3a\"],[0.8888888888888888,\"#fdca26\"],[1.0,\"#f0f921\"]],\"type\":\"histogram2dcontour\"}],\"histogram2d\":[{\"colorbar\":{\"outlinewidth\":0,\"ticks\":\"\"},\"colorscale\":[[0.0,\"#0d0887\"],[0.1111111111111111,\"#46039f\"],[0.2222222222222222,\"#7201a8\"],[0.3333333333333333,\"#9c179e\"],[0.4444444444444444,\"#bd3786\"],[0.5555555555555556,\"#d8576b\"],[0.6666666666666666,\"#ed7953\"],[0.7777777777777778,\"#fb9f3a\"],[0.8888888888888888,\"#fdca26\"],[1.0,\"#f0f921\"]],\"type\":\"histogram2d\"}],\"histogram\":[{\"marker\":{\"pattern\":{\"fillmode\":\"overlay\",\"size\":10,\"solidity\":0.2}},\"type\":\"histogram\"}],\"mesh3d\":[{\"colorbar\":{\"outlinewidth\":0,\"ticks\":\"\"},\"type\":\"mesh3d\"}],\"parcoords\":[{\"line\":{\"colorbar\":{\"outlinewidth\":0,\"ticks\":\"\"}},\"type\":\"parcoords\"}],\"pie\":[{\"automargin\":true,\"type\":\"pie\"}],\"scatter3d\":[{\"line\":{\"colorbar\":{\"outlinewidth\":0,\"ticks\":\"\"}},\"marker\":{\"colorbar\":{\"outlinewidth\":0,\"ticks\":\"\"}},\"type\":\"scatter3d\"}],\"scattercarpet\":[{\"marker\":{\"colorbar\":{\"outlinewidth\":0,\"ticks\":\"\"}},\"type\":\"scattercarpet\"}],\"scattergeo\":[{\"marker\":{\"colorbar\":{\"outlinewidth\":0,\"ticks\":\"\"}},\"type\":\"scattergeo\"}],\"scattergl\":[{\"marker\":{\"line\":{\"color\":\"#283442\"}},\"type\":\"scattergl\"}],\"scattermapbox\":[{\"marker\":{\"colorbar\":{\"outlinewidth\":0,\"ticks\":\"\"}},\"type\":\"scattermapbox\"}],\"scatterpolargl\":[{\"marker\":{\"colorbar\":{\"outlinewidth\":0,\"ticks\":\"\"}},\"type\":\"scatterpolargl\"}],\"scatterpolar\":[{\"marker\":{\"colorbar\":{\"outlinewidth\":0,\"ticks\":\"\"}},\"type\":\"scatterpolar\"}],\"scatter\":[{\"marker\":{\"line\":{\"color\":\"#283442\"}},\"type\":\"scatter\"}],\"scatterternary\":[{\"marker\":{\"colorbar\":{\"outlinewidth\":0,\"ticks\":\"\"}},\"type\":\"scatterternary\"}],\"surface\":[{\"colorbar\":{\"outlinewidth\":0,\"ticks\":\"\"},\"colorscale\":[[0.0,\"#0d0887\"],[0.1111111111111111,\"#46039f\"],[0.2222222222222222,\"#7201a8\"],[0.3333333333333333,\"#9c179e\"],[0.4444444444444444,\"#bd3786\"],[0.5555555555555556,\"#d8576b\"],[0.6666666666666666,\"#ed7953\"],[0.7777777777777778,\"#fb9f3a\"],[0.8888888888888888,\"#fdca26\"],[1.0,\"#f0f921\"]],\"type\":\"surface\"}],\"table\":[{\"cells\":{\"fill\":{\"color\":\"#506784\"},\"line\":{\"color\":\"rgb(17,17,17)\"}},\"header\":{\"fill\":{\"color\":\"#2a3f5f\"},\"line\":{\"color\":\"rgb(17,17,17)\"}},\"type\":\"table\"}]},\"layout\":{\"annotationdefaults\":{\"arrowcolor\":\"#f2f5fa\",\"arrowhead\":0,\"arrowwidth\":1},\"autotypenumbers\":\"strict\",\"coloraxis\":{\"colorbar\":{\"outlinewidth\":0,\"ticks\":\"\"}},\"colorscale\":{\"diverging\":[[0,\"#8e0152\"],[0.1,\"#c51b7d\"],[0.2,\"#de77ae\"],[0.3,\"#f1b6da\"],[0.4,\"#fde0ef\"],[0.5,\"#f7f7f7\"],[0.6,\"#e6f5d0\"],[0.7,\"#b8e186\"],[0.8,\"#7fbc41\"],[0.9,\"#4d9221\"],[1,\"#276419\"]],\"sequential\":[[0.0,\"#0d0887\"],[0.1111111111111111,\"#46039f\"],[0.2222222222222222,\"#7201a8\"],[0.3333333333333333,\"#9c179e\"],[0.4444444444444444,\"#bd3786\"],[0.5555555555555556,\"#d8576b\"],[0.6666666666666666,\"#ed7953\"],[0.7777777777777778,\"#fb9f3a\"],[0.8888888888888888,\"#fdca26\"],[1.0,\"#f0f921\"]],\"sequentialminus\":[[0.0,\"#0d0887\"],[0.1111111111111111,\"#46039f\"],[0.2222222222222222,\"#7201a8\"],[0.3333333333333333,\"#9c179e\"],[0.4444444444444444,\"#bd3786\"],[0.5555555555555556,\"#d8576b\"],[0.6666666666666666,\"#ed7953\"],[0.7777777777777778,\"#fb9f3a\"],[0.8888888888888888,\"#fdca26\"],[1.0,\"#f0f921\"]]},\"colorway\":[\"#636efa\",\"#EF553B\",\"#00cc96\",\"#ab63fa\",\"#FFA15A\",\"#19d3f3\",\"#FF6692\",\"#B6E880\",\"#FF97FF\",\"#FECB52\"],\"font\":{\"color\":\"#f2f5fa\"},\"geo\":{\"bgcolor\":\"rgb(17,17,17)\",\"lakecolor\":\"rgb(17,17,17)\",\"landcolor\":\"rgb(17,17,17)\",\"showlakes\":true,\"showland\":true,\"subunitcolor\":\"#506784\"},\"hoverlabel\":{\"align\":\"left\"},\"hovermode\":\"closest\",\"mapbox\":{\"style\":\"dark\"},\"paper_bgcolor\":\"rgb(17,17,17)\",\"plot_bgcolor\":\"rgb(17,17,17)\",\"polar\":{\"angularaxis\":{\"gridcolor\":\"#506784\",\"linecolor\":\"#506784\",\"ticks\":\"\"},\"bgcolor\":\"rgb(17,17,17)\",\"radialaxis\":{\"gridcolor\":\"#506784\",\"linecolor\":\"#506784\",\"ticks\":\"\"}},\"scene\":{\"xaxis\":{\"backgroundcolor\":\"rgb(17,17,17)\",\"gridcolor\":\"#506784\",\"gridwidth\":2,\"linecolor\":\"#506784\",\"showbackground\":true,\"ticks\":\"\",\"zerolinecolor\":\"#C8D4E3\"},\"yaxis\":{\"backgroundcolor\":\"rgb(17,17,17)\",\"gridcolor\":\"#506784\",\"gridwidth\":2,\"linecolor\":\"#506784\",\"showbackground\":true,\"ticks\":\"\",\"zerolinecolor\":\"#C8D4E3\"},\"zaxis\":{\"backgroundcolor\":\"rgb(17,17,17)\",\"gridcolor\":\"#506784\",\"gridwidth\":2,\"linecolor\":\"#506784\",\"showbackground\":true,\"ticks\":\"\",\"zerolinecolor\":\"#C8D4E3\"}},\"shapedefaults\":{\"line\":{\"color\":\"#f2f5fa\"}},\"sliderdefaults\":{\"bgcolor\":\"#C8D4E3\",\"bordercolor\":\"rgb(17,17,17)\",\"borderwidth\":1,\"tickwidth\":0},\"ternary\":{\"aaxis\":{\"gridcolor\":\"#506784\",\"linecolor\":\"#506784\",\"ticks\":\"\"},\"baxis\":{\"gridcolor\":\"#506784\",\"linecolor\":\"#506784\",\"ticks\":\"\"},\"bgcolor\":\"rgb(17,17,17)\",\"caxis\":{\"gridcolor\":\"#506784\",\"linecolor\":\"#506784\",\"ticks\":\"\"}},\"title\":{\"x\":0.05},\"updatemenudefaults\":{\"bgcolor\":\"#506784\",\"borderwidth\":0},\"xaxis\":{\"automargin\":true,\"gridcolor\":\"#283442\",\"linecolor\":\"#506784\",\"ticks\":\"\",\"title\":{\"standoff\":15},\"zerolinecolor\":\"#283442\",\"zerolinewidth\":2},\"yaxis\":{\"automargin\":true,\"gridcolor\":\"#283442\",\"linecolor\":\"#506784\",\"ticks\":\"\",\"title\":{\"standoff\":15},\"zerolinecolor\":\"#283442\",\"zerolinewidth\":2}}},\"xaxis\":{\"anchor\":\"y\",\"domain\":[0.0,1.0],\"title\":{\"text\":\"date\"}},\"yaxis\":{\"anchor\":\"x\",\"domain\":[0.0,1.0],\"title\":{\"text\":\"value\"}},\"legend\":{\"title\":{\"text\":\"variable\"},\"tracegroupgap\":0},\"margin\":{\"t\":60}},                        {\"responsive\": true}                    ).then(function(){\n",
       "                            \n",
       "var gd = document.getElementById('248df754-41e0-46d4-baf9-8d35ef9e0958');\n",
       "var x = new MutationObserver(function (mutations, observer) {{\n",
       "        var display = window.getComputedStyle(gd).display;\n",
       "        if (!display || display === 'none') {{\n",
       "            console.log([gd, 'removed!']);\n",
       "            Plotly.purge(gd);\n",
       "            observer.disconnect();\n",
       "        }}\n",
       "}});\n",
       "\n",
       "// Listen for the removal of the full notebook cells\n",
       "var notebookContainer = gd.closest('#notebook-container');\n",
       "if (notebookContainer) {{\n",
       "    x.observe(notebookContainer, {childList: true});\n",
       "}}\n",
       "\n",
       "// Listen for the clearing of the current output cell\n",
       "var outputEl = gd.closest('.output');\n",
       "if (outputEl) {{\n",
       "    x.observe(outputEl, {childList: true});\n",
       "}}\n",
       "\n",
       "                        })                };                            </script>        </div>\n",
       "</body>\n",
       "</html>"
      ]
     },
     "metadata": {},
     "output_type": "display_data"
    }
   ],
   "source": [
    "fig = px.line(predictions, x=\"date\", y=[\"price\", 'prediction_label'], template = 'plotly_dark')\n",
    "fig.show()"
   ]
  },
  {
   "cell_type": "code",
   "execution_count": null,
   "metadata": {
    "id": "yGWVJhvT0BUV"
   },
   "outputs": [],
   "source": [
    "predictions.to_csv('datasets/test_dataset_labeled.csv', index=False)"
   ]
  },
  {
   "cell_type": "markdown",
   "metadata": {
    "id": "PJLJfK0z0BUV"
   },
   "source": [
    "____"
   ]
  },
  {
   "cell_type": "markdown",
   "metadata": {
    "id": "v1CBH-cePZqW"
   },
   "source": [
    "### Save model"
   ]
  },
  {
   "cell_type": "code",
   "execution_count": null,
   "metadata": {
    "colab": {
     "base_uri": "https://localhost:8080/"
    },
    "id": "ZwZd0Sx_Lzxu",
    "outputId": "ed08bcc5-6fb2-4d55-fb70-350f7a17d4c2"
   },
   "outputs": [
    {
     "name": "stdout",
     "output_type": "stream",
     "text": [
      "Transformation Pipeline and Model Successfully Saved\n"
     ]
    },
    {
     "data": {
      "text/plain": [
       "(Pipeline(memory=FastMemory(location=/tmp/joblib),\n",
       "          steps=[('target_transformation',\n",
       "                  TransformerWrapperWithInverse(transformer=TargetTransformer(estimator=PowerTransformer(standardize=False)))),\n",
       "                 ('date_feature_extractor',\n",
       "                  TransformerWrapper(include=['date'],\n",
       "                                     transformer=ExtractDateTimeFeatures())),\n",
       "                 ('numerical_imputer',\n",
       "                  TransformerWrapper(include=['series'],\n",
       "                                     transformer=SimpleImputer())),\n",
       "                 ('categorical_imputer',\n",
       "                  TransformerWrapper(include=[],\n",
       "                                     transformer=SimpleImputer(strategy='most_frequent'))),\n",
       "                 ('trained_model', GradientBoostingRegressor(random_state=123))]),\n",
       " 'model.pkl')"
      ]
     },
     "execution_count": 260,
     "metadata": {},
     "output_type": "execute_result"
    }
   ],
   "source": [
    "save_model(final_best_model, 'models/best_model')"
   ]
  }
 ],
 "metadata": {
  "colab": {
   "collapsed_sections": [
    "-KaBZH5bHskA"
   ],
   "include_colab_link": true,
   "provenance": []
  },
  "kernelspec": {
   "display_name": "Python 3 (ipykernel)",
   "language": "python",
   "name": "python3"
  },
  "language_info": {
   "codemirror_mode": {
    "name": "ipython",
    "version": 3
   },
   "file_extension": ".py",
   "mimetype": "text/x-python",
   "name": "python",
   "nbconvert_exporter": "python",
   "pygments_lexer": "ipython3",
   "version": "3.9.12"
  },
  "widgets": {
   "application/vnd.jupyter.widget-state+json": {
    "03cb727b3f10470a83742900b13aa8d0": {
     "model_module": "@jupyter-widgets/controls",
     "model_module_version": "1.5.0",
     "model_name": "DescriptionStyleModel",
     "state": {
      "_model_module": "@jupyter-widgets/controls",
      "_model_module_version": "1.5.0",
      "_model_name": "DescriptionStyleModel",
      "_view_count": null,
      "_view_module": "@jupyter-widgets/base",
      "_view_module_version": "1.2.0",
      "_view_name": "StyleView",
      "description_width": ""
     }
    },
    "055696bf78f34134be0d5d70ab1142bb": {
     "model_module": "@jupyter-widgets/controls",
     "model_module_version": "1.5.0",
     "model_name": "HTMLModel",
     "state": {
      "_dom_classes": [],
      "_model_module": "@jupyter-widgets/controls",
      "_model_module_version": "1.5.0",
      "_model_name": "HTMLModel",
      "_view_count": null,
      "_view_module": "@jupyter-widgets/controls",
      "_view_module_version": "1.5.0",
      "_view_name": "HTMLView",
      "description": "",
      "description_tooltip": null,
      "layout": "IPY_MODEL_ada411ba70e8416ca58b821c8f781958",
      "placeholder": "​",
      "style": "IPY_MODEL_8500130d6f7e45e59c140a4717bfc3dc",
      "value": "Processing: 100%"
     }
    },
    "1005f02aacde4342b4f361f232d188b3": {
     "model_module": "@jupyter-widgets/controls",
     "model_module_version": "1.5.0",
     "model_name": "HTMLModel",
     "state": {
      "_dom_classes": [],
      "_model_module": "@jupyter-widgets/controls",
      "_model_module_version": "1.5.0",
      "_model_name": "HTMLModel",
      "_view_count": null,
      "_view_module": "@jupyter-widgets/controls",
      "_view_module_version": "1.5.0",
      "_view_name": "HTMLView",
      "description": "",
      "description_tooltip": null,
      "layout": "IPY_MODEL_d0ed4d7822ec4d67acbf8480c33504bc",
      "placeholder": "​",
      "style": "IPY_MODEL_5ee6bdd6a82d461494e7c99c1b5e9768",
      "value": " 81/81 [00:50&lt;00:00,  2.47it/s]"
     }
    },
    "1994ead5c59e4f6293e9cec074a04a24": {
     "model_module": "@jupyter-widgets/controls",
     "model_module_version": "1.5.0",
     "model_name": "HBoxModel",
     "state": {
      "_dom_classes": [],
      "_model_module": "@jupyter-widgets/controls",
      "_model_module_version": "1.5.0",
      "_model_name": "HBoxModel",
      "_view_count": null,
      "_view_module": "@jupyter-widgets/controls",
      "_view_module_version": "1.5.0",
      "_view_name": "HBoxView",
      "box_style": "",
      "children": [
       "IPY_MODEL_055696bf78f34134be0d5d70ab1142bb",
       "IPY_MODEL_1c9c0f1d60d04730912d0c6f8989f1e1",
       "IPY_MODEL_8c91938aba834f27bf1e330358831367"
      ],
      "layout": "IPY_MODEL_e1ecae00faba479a93352b48801e5956"
     }
    },
    "1c9c0f1d60d04730912d0c6f8989f1e1": {
     "model_module": "@jupyter-widgets/controls",
     "model_module_version": "1.5.0",
     "model_name": "FloatProgressModel",
     "state": {
      "_dom_classes": [],
      "_model_module": "@jupyter-widgets/controls",
      "_model_module_version": "1.5.0",
      "_model_name": "FloatProgressModel",
      "_view_count": null,
      "_view_module": "@jupyter-widgets/controls",
      "_view_module_version": "1.5.0",
      "_view_name": "ProgressView",
      "bar_style": "",
      "description": "",
      "description_tooltip": null,
      "layout": "IPY_MODEL_86093ea1c6444d7e93578ca84023c020",
      "max": 7,
      "min": 0,
      "orientation": "horizontal",
      "style": "IPY_MODEL_f3aec2fd395240a18ccf8462597cc8ed",
      "value": 7
     }
    },
    "23fa4f75b48945908e7b8e9e31c8c753": {
     "model_module": "@jupyter-widgets/controls",
     "model_module_version": "1.5.0",
     "model_name": "HBoxModel",
     "state": {
      "_dom_classes": [],
      "_model_module": "@jupyter-widgets/controls",
      "_model_module_version": "1.5.0",
      "_model_name": "HBoxModel",
      "_view_count": null,
      "_view_module": "@jupyter-widgets/controls",
      "_view_module_version": "1.5.0",
      "_view_name": "HBoxView",
      "box_style": "",
      "children": [
       "IPY_MODEL_8db26d9600cc47cb899f4e6fba09e0f6",
       "IPY_MODEL_fd314ad3d1ce44ee8ceec5ba1c9db551",
       "IPY_MODEL_1005f02aacde4342b4f361f232d188b3"
      ],
      "layout": "IPY_MODEL_296df74b1f834ac48fa998a0ce3fa62d"
     }
    },
    "296df74b1f834ac48fa998a0ce3fa62d": {
     "model_module": "@jupyter-widgets/base",
     "model_module_version": "1.2.0",
     "model_name": "LayoutModel",
     "state": {
      "_model_module": "@jupyter-widgets/base",
      "_model_module_version": "1.2.0",
      "_model_name": "LayoutModel",
      "_view_count": null,
      "_view_module": "@jupyter-widgets/base",
      "_view_module_version": "1.2.0",
      "_view_name": "LayoutView",
      "align_content": null,
      "align_items": null,
      "align_self": null,
      "border": null,
      "bottom": null,
      "display": null,
      "flex": null,
      "flex_flow": null,
      "grid_area": null,
      "grid_auto_columns": null,
      "grid_auto_flow": null,
      "grid_auto_rows": null,
      "grid_column": null,
      "grid_gap": null,
      "grid_row": null,
      "grid_template_areas": null,
      "grid_template_columns": null,
      "grid_template_rows": null,
      "height": null,
      "justify_content": null,
      "justify_items": null,
      "left": null,
      "margin": null,
      "max_height": null,
      "max_width": null,
      "min_height": null,
      "min_width": null,
      "object_fit": null,
      "object_position": null,
      "order": null,
      "overflow": null,
      "overflow_x": null,
      "overflow_y": null,
      "padding": null,
      "right": null,
      "top": null,
      "visibility": "hidden",
      "width": null
     }
    },
    "2ca233b56ab54803be534c178f216be1": {
     "model_module": "@jupyter-widgets/base",
     "model_module_version": "1.2.0",
     "model_name": "LayoutModel",
     "state": {
      "_model_module": "@jupyter-widgets/base",
      "_model_module_version": "1.2.0",
      "_model_name": "LayoutModel",
      "_view_count": null,
      "_view_module": "@jupyter-widgets/base",
      "_view_module_version": "1.2.0",
      "_view_name": "LayoutView",
      "align_content": null,
      "align_items": null,
      "align_self": null,
      "border": null,
      "bottom": null,
      "display": null,
      "flex": null,
      "flex_flow": null,
      "grid_area": null,
      "grid_auto_columns": null,
      "grid_auto_flow": null,
      "grid_auto_rows": null,
      "grid_column": null,
      "grid_gap": null,
      "grid_row": null,
      "grid_template_areas": null,
      "grid_template_columns": null,
      "grid_template_rows": null,
      "height": null,
      "justify_content": null,
      "justify_items": null,
      "left": null,
      "margin": null,
      "max_height": null,
      "max_width": null,
      "min_height": null,
      "min_width": null,
      "object_fit": null,
      "object_position": null,
      "order": null,
      "overflow": null,
      "overflow_x": null,
      "overflow_y": null,
      "padding": null,
      "right": null,
      "top": null,
      "visibility": null,
      "width": null
     }
    },
    "347f9d6646f64cfba1ef0315c428f77d": {
     "model_module": "@jupyter-widgets/controls",
     "model_module_version": "1.5.0",
     "model_name": "ProgressStyleModel",
     "state": {
      "_model_module": "@jupyter-widgets/controls",
      "_model_module_version": "1.5.0",
      "_model_name": "ProgressStyleModel",
      "_view_count": null,
      "_view_module": "@jupyter-widgets/base",
      "_view_module_version": "1.2.0",
      "_view_name": "StyleView",
      "bar_color": null,
      "description_width": ""
     }
    },
    "4c91d3fa2871403c95948b04492e3266": {
     "model_module": "@jupyter-widgets/base",
     "model_module_version": "1.2.0",
     "model_name": "LayoutModel",
     "state": {
      "_model_module": "@jupyter-widgets/base",
      "_model_module_version": "1.2.0",
      "_model_name": "LayoutModel",
      "_view_count": null,
      "_view_module": "@jupyter-widgets/base",
      "_view_module_version": "1.2.0",
      "_view_name": "LayoutView",
      "align_content": null,
      "align_items": null,
      "align_self": null,
      "border": null,
      "bottom": null,
      "display": null,
      "flex": null,
      "flex_flow": null,
      "grid_area": null,
      "grid_auto_columns": null,
      "grid_auto_flow": null,
      "grid_auto_rows": null,
      "grid_column": null,
      "grid_gap": null,
      "grid_row": null,
      "grid_template_areas": null,
      "grid_template_columns": null,
      "grid_template_rows": null,
      "height": null,
      "justify_content": null,
      "justify_items": null,
      "left": null,
      "margin": null,
      "max_height": null,
      "max_width": null,
      "min_height": null,
      "min_width": null,
      "object_fit": null,
      "object_position": null,
      "order": null,
      "overflow": null,
      "overflow_x": null,
      "overflow_y": null,
      "padding": null,
      "right": null,
      "top": null,
      "visibility": null,
      "width": null
     }
    },
    "5ee6bdd6a82d461494e7c99c1b5e9768": {
     "model_module": "@jupyter-widgets/controls",
     "model_module_version": "1.5.0",
     "model_name": "DescriptionStyleModel",
     "state": {
      "_model_module": "@jupyter-widgets/controls",
      "_model_module_version": "1.5.0",
      "_model_name": "DescriptionStyleModel",
      "_view_count": null,
      "_view_module": "@jupyter-widgets/base",
      "_view_module_version": "1.2.0",
      "_view_name": "StyleView",
      "description_width": ""
     }
    },
    "6a2848ee8816429ab05a85d5996659e7": {
     "model_module": "@jupyter-widgets/base",
     "model_module_version": "1.2.0",
     "model_name": "LayoutModel",
     "state": {
      "_model_module": "@jupyter-widgets/base",
      "_model_module_version": "1.2.0",
      "_model_name": "LayoutModel",
      "_view_count": null,
      "_view_module": "@jupyter-widgets/base",
      "_view_module_version": "1.2.0",
      "_view_name": "LayoutView",
      "align_content": null,
      "align_items": null,
      "align_self": null,
      "border": null,
      "bottom": null,
      "display": null,
      "flex": null,
      "flex_flow": null,
      "grid_area": null,
      "grid_auto_columns": null,
      "grid_auto_flow": null,
      "grid_auto_rows": null,
      "grid_column": null,
      "grid_gap": null,
      "grid_row": null,
      "grid_template_areas": null,
      "grid_template_columns": null,
      "grid_template_rows": null,
      "height": null,
      "justify_content": null,
      "justify_items": null,
      "left": null,
      "margin": null,
      "max_height": null,
      "max_width": null,
      "min_height": null,
      "min_width": null,
      "object_fit": null,
      "object_position": null,
      "order": null,
      "overflow": null,
      "overflow_x": null,
      "overflow_y": null,
      "padding": null,
      "right": null,
      "top": null,
      "visibility": null,
      "width": null
     }
    },
    "8500130d6f7e45e59c140a4717bfc3dc": {
     "model_module": "@jupyter-widgets/controls",
     "model_module_version": "1.5.0",
     "model_name": "DescriptionStyleModel",
     "state": {
      "_model_module": "@jupyter-widgets/controls",
      "_model_module_version": "1.5.0",
      "_model_name": "DescriptionStyleModel",
      "_view_count": null,
      "_view_module": "@jupyter-widgets/base",
      "_view_module_version": "1.2.0",
      "_view_name": "StyleView",
      "description_width": ""
     }
    },
    "86093ea1c6444d7e93578ca84023c020": {
     "model_module": "@jupyter-widgets/base",
     "model_module_version": "1.2.0",
     "model_name": "LayoutModel",
     "state": {
      "_model_module": "@jupyter-widgets/base",
      "_model_module_version": "1.2.0",
      "_model_name": "LayoutModel",
      "_view_count": null,
      "_view_module": "@jupyter-widgets/base",
      "_view_module_version": "1.2.0",
      "_view_name": "LayoutView",
      "align_content": null,
      "align_items": null,
      "align_self": null,
      "border": null,
      "bottom": null,
      "display": null,
      "flex": null,
      "flex_flow": null,
      "grid_area": null,
      "grid_auto_columns": null,
      "grid_auto_flow": null,
      "grid_auto_rows": null,
      "grid_column": null,
      "grid_gap": null,
      "grid_row": null,
      "grid_template_areas": null,
      "grid_template_columns": null,
      "grid_template_rows": null,
      "height": null,
      "justify_content": null,
      "justify_items": null,
      "left": null,
      "margin": null,
      "max_height": null,
      "max_width": null,
      "min_height": null,
      "min_width": null,
      "object_fit": null,
      "object_position": null,
      "order": null,
      "overflow": null,
      "overflow_x": null,
      "overflow_y": null,
      "padding": null,
      "right": null,
      "top": null,
      "visibility": null,
      "width": null
     }
    },
    "8c91938aba834f27bf1e330358831367": {
     "model_module": "@jupyter-widgets/controls",
     "model_module_version": "1.5.0",
     "model_name": "HTMLModel",
     "state": {
      "_dom_classes": [],
      "_model_module": "@jupyter-widgets/controls",
      "_model_module_version": "1.5.0",
      "_model_name": "HTMLModel",
      "_view_count": null,
      "_view_module": "@jupyter-widgets/controls",
      "_view_module_version": "1.5.0",
      "_view_name": "HTMLView",
      "description": "",
      "description_tooltip": null,
      "layout": "IPY_MODEL_6a2848ee8816429ab05a85d5996659e7",
      "placeholder": "​",
      "style": "IPY_MODEL_c0e2a369060d4f7cb3158198f809b5c1",
      "value": " 7/7 [00:35&lt;00:00,  3.94s/it]"
     }
    },
    "8db26d9600cc47cb899f4e6fba09e0f6": {
     "model_module": "@jupyter-widgets/controls",
     "model_module_version": "1.5.0",
     "model_name": "HTMLModel",
     "state": {
      "_dom_classes": [],
      "_model_module": "@jupyter-widgets/controls",
      "_model_module_version": "1.5.0",
      "_model_name": "HTMLModel",
      "_view_count": null,
      "_view_module": "@jupyter-widgets/controls",
      "_view_module_version": "1.5.0",
      "_view_name": "HTMLView",
      "description": "",
      "description_tooltip": null,
      "layout": "IPY_MODEL_2ca233b56ab54803be534c178f216be1",
      "placeholder": "​",
      "style": "IPY_MODEL_03cb727b3f10470a83742900b13aa8d0",
      "value": "Processing: 100%"
     }
    },
    "ada411ba70e8416ca58b821c8f781958": {
     "model_module": "@jupyter-widgets/base",
     "model_module_version": "1.2.0",
     "model_name": "LayoutModel",
     "state": {
      "_model_module": "@jupyter-widgets/base",
      "_model_module_version": "1.2.0",
      "_model_name": "LayoutModel",
      "_view_count": null,
      "_view_module": "@jupyter-widgets/base",
      "_view_module_version": "1.2.0",
      "_view_name": "LayoutView",
      "align_content": null,
      "align_items": null,
      "align_self": null,
      "border": null,
      "bottom": null,
      "display": null,
      "flex": null,
      "flex_flow": null,
      "grid_area": null,
      "grid_auto_columns": null,
      "grid_auto_flow": null,
      "grid_auto_rows": null,
      "grid_column": null,
      "grid_gap": null,
      "grid_row": null,
      "grid_template_areas": null,
      "grid_template_columns": null,
      "grid_template_rows": null,
      "height": null,
      "justify_content": null,
      "justify_items": null,
      "left": null,
      "margin": null,
      "max_height": null,
      "max_width": null,
      "min_height": null,
      "min_width": null,
      "object_fit": null,
      "object_position": null,
      "order": null,
      "overflow": null,
      "overflow_x": null,
      "overflow_y": null,
      "padding": null,
      "right": null,
      "top": null,
      "visibility": null,
      "width": null
     }
    },
    "c0e2a369060d4f7cb3158198f809b5c1": {
     "model_module": "@jupyter-widgets/controls",
     "model_module_version": "1.5.0",
     "model_name": "DescriptionStyleModel",
     "state": {
      "_model_module": "@jupyter-widgets/controls",
      "_model_module_version": "1.5.0",
      "_model_name": "DescriptionStyleModel",
      "_view_count": null,
      "_view_module": "@jupyter-widgets/base",
      "_view_module_version": "1.2.0",
      "_view_name": "StyleView",
      "description_width": ""
     }
    },
    "d0ed4d7822ec4d67acbf8480c33504bc": {
     "model_module": "@jupyter-widgets/base",
     "model_module_version": "1.2.0",
     "model_name": "LayoutModel",
     "state": {
      "_model_module": "@jupyter-widgets/base",
      "_model_module_version": "1.2.0",
      "_model_name": "LayoutModel",
      "_view_count": null,
      "_view_module": "@jupyter-widgets/base",
      "_view_module_version": "1.2.0",
      "_view_name": "LayoutView",
      "align_content": null,
      "align_items": null,
      "align_self": null,
      "border": null,
      "bottom": null,
      "display": null,
      "flex": null,
      "flex_flow": null,
      "grid_area": null,
      "grid_auto_columns": null,
      "grid_auto_flow": null,
      "grid_auto_rows": null,
      "grid_column": null,
      "grid_gap": null,
      "grid_row": null,
      "grid_template_areas": null,
      "grid_template_columns": null,
      "grid_template_rows": null,
      "height": null,
      "justify_content": null,
      "justify_items": null,
      "left": null,
      "margin": null,
      "max_height": null,
      "max_width": null,
      "min_height": null,
      "min_width": null,
      "object_fit": null,
      "object_position": null,
      "order": null,
      "overflow": null,
      "overflow_x": null,
      "overflow_y": null,
      "padding": null,
      "right": null,
      "top": null,
      "visibility": null,
      "width": null
     }
    },
    "e1ecae00faba479a93352b48801e5956": {
     "model_module": "@jupyter-widgets/base",
     "model_module_version": "1.2.0",
     "model_name": "LayoutModel",
     "state": {
      "_model_module": "@jupyter-widgets/base",
      "_model_module_version": "1.2.0",
      "_model_name": "LayoutModel",
      "_view_count": null,
      "_view_module": "@jupyter-widgets/base",
      "_view_module_version": "1.2.0",
      "_view_name": "LayoutView",
      "align_content": null,
      "align_items": null,
      "align_self": null,
      "border": null,
      "bottom": null,
      "display": null,
      "flex": null,
      "flex_flow": null,
      "grid_area": null,
      "grid_auto_columns": null,
      "grid_auto_flow": null,
      "grid_auto_rows": null,
      "grid_column": null,
      "grid_gap": null,
      "grid_row": null,
      "grid_template_areas": null,
      "grid_template_columns": null,
      "grid_template_rows": null,
      "height": null,
      "justify_content": null,
      "justify_items": null,
      "left": null,
      "margin": null,
      "max_height": null,
      "max_width": null,
      "min_height": null,
      "min_width": null,
      "object_fit": null,
      "object_position": null,
      "order": null,
      "overflow": null,
      "overflow_x": null,
      "overflow_y": null,
      "padding": null,
      "right": null,
      "top": null,
      "visibility": "hidden",
      "width": null
     }
    },
    "f3aec2fd395240a18ccf8462597cc8ed": {
     "model_module": "@jupyter-widgets/controls",
     "model_module_version": "1.5.0",
     "model_name": "ProgressStyleModel",
     "state": {
      "_model_module": "@jupyter-widgets/controls",
      "_model_module_version": "1.5.0",
      "_model_name": "ProgressStyleModel",
      "_view_count": null,
      "_view_module": "@jupyter-widgets/base",
      "_view_module_version": "1.2.0",
      "_view_name": "StyleView",
      "bar_color": null,
      "description_width": ""
     }
    },
    "fd314ad3d1ce44ee8ceec5ba1c9db551": {
     "model_module": "@jupyter-widgets/controls",
     "model_module_version": "1.5.0",
     "model_name": "FloatProgressModel",
     "state": {
      "_dom_classes": [],
      "_model_module": "@jupyter-widgets/controls",
      "_model_module_version": "1.5.0",
      "_model_name": "FloatProgressModel",
      "_view_count": null,
      "_view_module": "@jupyter-widgets/controls",
      "_view_module_version": "1.5.0",
      "_view_name": "ProgressView",
      "bar_style": "",
      "description": "",
      "description_tooltip": null,
      "layout": "IPY_MODEL_4c91d3fa2871403c95948b04492e3266",
      "max": 81,
      "min": 0,
      "orientation": "horizontal",
      "style": "IPY_MODEL_347f9d6646f64cfba1ef0315c428f77d",
      "value": 81
     }
    }
   }
  }
 },
 "nbformat": 4,
 "nbformat_minor": 1
}
