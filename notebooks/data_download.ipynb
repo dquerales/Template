{
 "cells": [
  {
   "cell_type": "code",
   "execution_count": 1,
   "metadata": {
    "id": "vibrwfcq1aWu"
   },
   "outputs": [],
   "source": [
    "# import os; os.chdir('..')\n",
    "import pandas as pd"
   ]
  },
  {
   "cell_type": "code",
   "execution_count": 3,
   "metadata": {
    "id": "GnEJ7IU22Zd3"
   },
   "outputs": [],
   "source": [
    "df = pd.read_csv('https://api.blockchain.info/charts/market-price?format=csv', header=None, names=['date', 'price'])"
   ]
  },
  {
   "cell_type": "code",
   "execution_count": 4,
   "metadata": {
    "id": "HwhShx5D2e69"
   },
   "outputs": [],
   "source": [
    "df.to_csv('datasets/raw_data.csv', index= False)"
   ]
  }
 ],
 "metadata": {
  "colab": {
   "provenance": []
  },
  "kernelspec": {
   "display_name": "Python 3 (ipykernel)",
   "language": "python",
   "name": "python3"
  },
  "language_info": {
   "codemirror_mode": {
    "name": "ipython",
    "version": 3
   },
   "file_extension": ".py",
   "mimetype": "text/x-python",
   "name": "python",
   "nbconvert_exporter": "python",
   "pygments_lexer": "ipython3",
   "version": "3.9.12"
  }
 },
 "nbformat": 4,
 "nbformat_minor": 1
}
