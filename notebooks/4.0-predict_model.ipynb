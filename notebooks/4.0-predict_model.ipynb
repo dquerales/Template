{
 "cells": [
  {
   "cell_type": "markdown",
   "metadata": {
    "colab_type": "text",
    "id": "view-in-github"
   },
   "source": [
    "<a href=\"https://colab.research.google.com/github/dquerales/jupyter-automation-github-actions/blob/main/notebooks/predict_model.ipynb\" target=\"_parent\"><img src=\"https://colab.research.google.com/assets/colab-badge.svg\" alt=\"Open In Colab\"/></a>"
   ]
  },
  {
   "cell_type": "markdown",
   "metadata": {
    "id": "pRJ59ilAHsjK",
    "tags": []
   },
   "source": [
    "# Model Predict\n",
    "Daniel Querales - d.querales@gmail.com"
   ]
  },
  {
   "cell_type": "markdown",
   "metadata": {
    "id": "0753cb7a"
   },
   "source": [
    "___"
   ]
  },
  {
   "cell_type": "markdown",
   "metadata": {},
   "source": [
    " **Changelog:**\n",
    "- 2023-01-02: File created."
   ]
  },
  {
   "cell_type": "markdown",
   "metadata": {},
   "source": [
    "___"
   ]
  },
  {
   "cell_type": "markdown",
   "metadata": {},
   "source": [
    "## Table of Contents\n",
    "- [Importing libraries](#Importing-libraries)\n",
    "- [Load data](#Load-data)\n",
    "- [Data Cleaning and Preparation](#Data-Cleaning-and-Preparation)\n",
    "- [Data Exploration & Visualization](#Data-Exploration-&-Visualization)"
   ]
  },
  {
   "cell_type": "markdown",
   "metadata": {},
   "source": [
    "---"
   ]
  },
  {
   "cell_type": "markdown",
   "metadata": {
    "id": "6082b24a"
   },
   "source": [
    "## Importing libraries"
   ]
  },
  {
   "cell_type": "markdown",
   "metadata": {
    "id": "tj9ZneCEy85b"
   },
   "source": [
    "## Load dependencies"
   ]
  },
  {
   "cell_type": "markdown",
   "metadata": {
    "id": "-KaBZH5bHskA"
   },
   "source": [
    "### Load libraries"
   ]
  },
  {
   "cell_type": "code",
   "execution_count": null,
   "metadata": {
    "id": "wCMvnhGSHskB"
   },
   "outputs": [],
   "source": [
    "from pycaret.regression import *\n",
    "import pandas as pd\n",
    "import numpy as np\n",
    "import plotly.express as px"
   ]
  },
  {
   "cell_type": "markdown",
   "metadata": {
    "id": "96gZGbNMvdpn"
   },
   "source": [
    "____"
   ]
  },
  {
   "cell_type": "markdown",
   "metadata": {
    "id": "xecU_FHQHskC"
   },
   "source": [
    "### Load data"
   ]
  },
  {
   "cell_type": "code",
   "execution_count": null,
   "metadata": {
    "colab": {
     "base_uri": "https://localhost:8080/",
     "height": 172
    },
    "id": "zaoy5PyYHskC",
    "outputId": "c70733f0-35ff-481a-b76a-754730d48d46"
   },
   "outputs": [],
   "source": [
    "df = pd.read_csv('datasets/raw_data.csv')"
   ]
  },
  {
   "cell_type": "code",
   "execution_count": null,
   "metadata": {
    "colab": {
     "base_uri": "https://localhost:8080/",
     "height": 206
    },
    "id": "uRzU4nKcHskC",
    "outputId": "9ea58fc0-58b9-4128-fad8-18d86fc93bae",
    "scrolled": true
   },
   "outputs": [],
   "source": [
    "df.head()"
   ]
  },
  {
   "cell_type": "markdown",
   "metadata": {
    "id": "xbieNunGmHDg"
   },
   "source": [
    "#### Data Preparation\n"
   ]
  },
  {
   "cell_type": "code",
   "execution_count": null,
   "metadata": {
    "id": "UsOmhOsomJh_"
   },
   "outputs": [],
   "source": [
    "df['date'] = pd.to_datetime(df['date'])\n",
    "df['day'] = df[\"date\"].dt.day\n",
    "df['month'] = df[\"date\"].dt.month\n",
    "df['year'] = df[\"date\"].dt.year"
   ]
  },
  {
   "cell_type": "code",
   "execution_count": null,
   "metadata": {
    "id": "uRPGUxg4nXJl"
   },
   "outputs": [],
   "source": [
    "df['series'] = np.arange(1,len(df)+1)"
   ]
  },
  {
   "cell_type": "code",
   "execution_count": null,
   "metadata": {
    "colab": {
     "base_uri": "https://localhost:8080/",
     "height": 206
    },
    "id": "yfTNn8NknX6M",
    "outputId": "f0391075-5104-4dde-ccd0-a17a89a8a706"
   },
   "outputs": [],
   "source": [
    "df.head()"
   ]
  },
  {
   "cell_type": "markdown",
   "metadata": {
    "id": "yoTL4Uv2vdp0"
   },
   "source": [
    "____"
   ]
  },
  {
   "cell_type": "markdown",
   "metadata": {
    "id": "ZPXju-sYHskF"
   },
   "source": [
    "### Load Model"
   ]
  },
  {
   "cell_type": "code",
   "execution_count": null,
   "metadata": {
    "id": "D3NP_vOMw7am"
   },
   "outputs": [],
   "source": [
    "model = load_model('models/best_model') "
   ]
  },
  {
   "cell_type": "markdown",
   "metadata": {
    "id": "RnXEZ7Wbvdp5"
   },
   "source": [
    "____"
   ]
  },
  {
   "cell_type": "markdown",
   "metadata": {
    "id": "iUzxt9MBxJCe"
   },
   "source": [
    "## Predictions"
   ]
  },
  {
   "cell_type": "code",
   "execution_count": null,
   "metadata": {
    "id": "3FDU5eYSqLaU"
   },
   "outputs": [],
   "source": [
    "start_date = df['date'].max()"
   ]
  },
  {
   "cell_type": "code",
   "execution_count": null,
   "metadata": {
    "id": "zteGEJrxqkBr"
   },
   "outputs": [],
   "source": [
    "end_date = df['date'].max() +  pd.DateOffset(days=10)"
   ]
  },
  {
   "cell_type": "code",
   "execution_count": null,
   "metadata": {
    "colab": {
     "base_uri": "https://localhost:8080/",
     "height": 394
    },
    "id": "mLm8rqwUp8uC",
    "outputId": "edf5ac58-fe1a-45b1-ce64-0bed9d1cde30"
   },
   "outputs": [],
   "source": [
    "future_df = pd.DataFrame() \n",
    "future_dates = pd.date_range(start = start_date, end = end_date, freq = '1D')\n",
    "future_df['date'] = future_dates  \n",
    "future_df['day'] = future_df[\"date\"].dt.day\n",
    "future_df['month'] = future_df[\"date\"].dt.month\n",
    "future_df['year'] = future_df[\"date\"].dt.year  \n",
    "future_df['series'] = range(len(df), len(df)+len(future_dates))\n",
    "future_df"
   ]
  },
  {
   "cell_type": "code",
   "execution_count": null,
   "metadata": {
    "colab": {
     "base_uri": "https://localhost:8080/",
     "height": 206
    },
    "id": "DAVBm6MLtGyx",
    "outputId": "746bc1c2-bf1f-4435-ab93-6bf225d8ab38"
   },
   "outputs": [],
   "source": [
    "predictions_future = predict_model(model, data=future_df)\n",
    "predictions_future.to_csv('datasets/predictions.csv', index=False)\n",
    "predictions_future.head()"
   ]
  },
  {
   "cell_type": "code",
   "execution_count": null,
   "metadata": {
    "id": "zU4NwchTzPn9"
   },
   "outputs": [],
   "source": [
    "concat_df = pd.concat([df, predictions_future], axis=0).reset_index(drop=True)"
   ]
  },
  {
   "cell_type": "code",
   "execution_count": null,
   "metadata": {
    "id": "I6mZMqVIzUtx"
   },
   "outputs": [],
   "source": [
    "concat_df.to_csv('datasets/predictions_with_price.csv', index=False)"
   ]
  },
  {
   "cell_type": "code",
   "execution_count": null,
   "metadata": {
    "colab": {
     "base_uri": "https://localhost:8080/",
     "height": 542
    },
    "id": "u6YYWRqovZ8V",
    "outputId": "6ea6fe8f-23da-434d-e4c4-11f567634f02"
   },
   "outputs": [],
   "source": [
    "px.line(concat_df, x=concat_df.index, y=[\"price\", \"prediction_label\"], template = 'plotly_dark')\n",
    "fig.show()"
   ]
  }
 ],
 "metadata": {
  "colab": {
   "collapsed_sections": [
    "-KaBZH5bHskA"
   ],
   "include_colab_link": true,
   "provenance": []
  },
  "kernelspec": {
   "display_name": "Python 3 (ipykernel)",
   "language": "python",
   "name": "python3"
  },
  "language_info": {
   "codemirror_mode": {
    "name": "ipython",
    "version": 3
   },
   "file_extension": ".py",
   "mimetype": "text/x-python",
   "name": "python",
   "nbconvert_exporter": "python",
   "pygments_lexer": "ipython3",
   "version": "3.9.12"
  }
 },
 "nbformat": 4,
 "nbformat_minor": 4
}
