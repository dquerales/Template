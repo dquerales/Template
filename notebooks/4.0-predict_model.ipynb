{
 "cells": [
  {
   "cell_type": "markdown",
   "metadata": {
    "id": "pRJ59ilAHsjK",
    "tags": []
   },
   "source": [
    "# Model Predict\n",
    "Daniel Querales - d.querales@gmail.com"
   ]
  },
  {
   "cell_type": "markdown",
   "metadata": {
    "id": "0753cb7a"
   },
   "source": [
    "___"
   ]
  },
  {
   "cell_type": "markdown",
   "metadata": {},
   "source": [
    " **Changelog:**\n",
    "- 2023-01-02: File created."
   ]
  },
  {
   "cell_type": "markdown",
   "metadata": {},
   "source": [
    "___"
   ]
  },
  {
   "cell_type": "markdown",
   "metadata": {},
   "source": [
    "## Table of Contents\n",
    "- [Importing libraries](#Importing-libraries)\n",
    "- [Load data](#Load-data)\n",
    "- [Data Cleaning and Preparation](#Data-Cleaning-and-Preparation)\n",
    "- [Data Exploration & Visualization](#Data-Exploration-&-Visualization)"
   ]
  },
  {
   "cell_type": "markdown",
   "metadata": {},
   "source": [
    "---"
   ]
  },
  {
   "cell_type": "markdown",
   "metadata": {
    "id": "6082b24a"
   },
   "source": [
    "## Importing libraries"
   ]
  },
  {
   "cell_type": "code",
   "execution_count": null,
   "metadata": {
    "id": "wCMvnhGSHskB"
   },
   "outputs": [],
   "source": [
    "import pandas as pd\n",
    "import numpy as np\n",
    "import xgboost as xgb\n",
    "from sklearn.metrics import mean_squared_error as MSE"
   ]
  },
  {
   "cell_type": "markdown",
   "metadata": {
    "id": "96gZGbNMvdpn"
   },
   "source": [
    "____"
   ]
  },
  {
   "cell_type": "markdown",
   "metadata": {
    "id": "xecU_FHQHskC"
   },
   "source": [
    "## Load data"
   ]
  },
  {
   "cell_type": "code",
   "execution_count": null,
   "metadata": {
    "colab": {
     "base_uri": "https://localhost:8080/",
     "height": 172
    },
    "id": "zaoy5PyYHskC",
    "outputId": "c70733f0-35ff-481a-b76a-754730d48d46"
   },
   "outputs": [],
   "source": [
    "df = pd.read_csv('../datasets/raw/data_raw.csv')"
   ]
  },
  {
   "cell_type": "code",
   "execution_count": null,
   "metadata": {
    "id": "UsOmhOsomJh_"
   },
   "outputs": [],
   "source": [
    "def add_date_features(dataframe, date):\n",
    "    df = dataframe.copy()\n",
    "    df[date] = pd.to_datetime(df[date])\n",
    "    df['hour'] = df[date].dt.hour\n",
    "    df['dayofweek'] = df[date].dt.dayofweek\n",
    "    df['quarter'] = df[date].dt.quarter\n",
    "    df['month'] = df[date].dt.month\n",
    "    df['year'] = df[date].dt.year\n",
    "    df['dayofyear'] = df[date].dt.dayofyear\n",
    "    df['dayofmonth'] = df[date].dt.day\n",
    "    df = df.set_index(date).sort_index()\n",
    "    df['series'] = np.arange(1,len(df)+1)\n",
    "    return(df)"
   ]
  },
  {
   "cell_type": "code",
   "execution_count": null,
   "metadata": {
    "id": "uRPGUxg4nXJl"
   },
   "outputs": [],
   "source": [
    "df = add_date_features(df, 'date')"
   ]
  },
  {
   "cell_type": "code",
   "execution_count": null,
   "metadata": {
    "colab": {
     "base_uri": "https://localhost:8080/",
     "height": 206
    },
    "id": "yfTNn8NknX6M",
    "outputId": "f0391075-5104-4dde-ccd0-a17a89a8a706"
   },
   "outputs": [],
   "source": [
    "df.head()"
   ]
  },
  {
   "cell_type": "markdown",
   "metadata": {
    "id": "yoTL4Uv2vdp0"
   },
   "source": [
    "____"
   ]
  },
  {
   "cell_type": "markdown",
   "metadata": {
    "id": "ZPXju-sYHskF"
   },
   "source": [
    "## Load Model"
   ]
  },
  {
   "cell_type": "code",
   "execution_count": null,
   "metadata": {
    "id": "D3NP_vOMw7am"
   },
   "outputs": [],
   "source": [
    "model = xgb.XGBRegressor()\n",
    "model.load_model(\"../models/model.json\")"
   ]
  },
  {
   "cell_type": "markdown",
   "metadata": {
    "id": "RnXEZ7Wbvdp5"
   },
   "source": [
    "____"
   ]
  },
  {
   "cell_type": "markdown",
   "metadata": {
    "id": "iUzxt9MBxJCe"
   },
   "source": [
    "## Predictions"
   ]
  },
  {
   "cell_type": "code",
   "execution_count": null,
   "metadata": {},
   "outputs": [],
   "source": [
    "TARGET = 'price'"
   ]
  },
  {
   "cell_type": "code",
   "execution_count": null,
   "metadata": {},
   "outputs": [],
   "source": [
    "df['predicted_price'] = model.predict(df.drop([TARGET], axis=1))"
   ]
  },
  {
   "cell_type": "code",
   "execution_count": null,
   "metadata": {},
   "outputs": [],
   "source": [
    "df.to_csv('../datasets/processed/data_predicted_price.csv')"
   ]
  }
 ],
 "metadata": {
  "colab": {
   "collapsed_sections": [
    "-KaBZH5bHskA"
   ],
   "include_colab_link": true,
   "provenance": []
  },
  "kernelspec": {
   "display_name": "Python 3 (ipykernel)",
   "language": "python",
   "name": "python3"
  },
  "language_info": {
   "codemirror_mode": {
    "name": "ipython",
    "version": 3
   },
   "file_extension": ".py",
   "mimetype": "text/x-python",
   "name": "python",
   "nbconvert_exporter": "python",
   "pygments_lexer": "ipython3",
   "version": "3.11.5"
  }
 },
 "nbformat": 4,
 "nbformat_minor": 4
}
