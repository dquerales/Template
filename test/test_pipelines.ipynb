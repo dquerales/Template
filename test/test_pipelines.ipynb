{
 "cells": [
  {
   "cell_type": "code",
   "execution_count": null,
   "id": "23c715d4",
   "metadata": {},
   "outputs": [],
   "source": [
    "# import os; os.chdir('..')"
   ]
  },
  {
   "cell_type": "code",
   "execution_count": null,
   "id": "acf7f9bc",
   "metadata": {},
   "outputs": [],
   "source": [
    "%run ../notebooks/1.0-data_download.ipynb"
   ]
  },
  {
   "cell_type": "code",
   "execution_count": null,
   "id": "9d6ae31c",
   "metadata": {},
   "outputs": [],
   "source": [
    "%run ../notebooks/2.0-data_exploration.ipynb"
   ]
  },
  {
   "cell_type": "code",
   "execution_count": null,
   "id": "a7bd5899",
   "metadata": {},
   "outputs": [],
   "source": [
    "%run ../notebooks/3.0-model_training.ipynb"
   ]
  },
  {
   "cell_type": "code",
   "execution_count": null,
   "id": "d2067d56",
   "metadata": {},
   "outputs": [],
   "source": [
    "%run ../notebooks/4.0-predict_model.ipynb"
   ]
  }
 ],
 "metadata": {
  "kernelspec": {
   "display_name": "NewQuash",
   "language": "python",
   "name": "newquash"
  },
  "language_info": {
   "codemirror_mode": {
    "name": "ipython",
    "version": 3
   },
   "file_extension": ".py",
   "mimetype": "text/x-python",
   "name": "python",
   "nbconvert_exporter": "python",
   "pygments_lexer": "ipython3",
   "version": "3.9.15"
  }
 },
 "nbformat": 4,
 "nbformat_minor": 5
}
